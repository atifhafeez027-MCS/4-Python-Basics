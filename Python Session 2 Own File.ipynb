{
 "cells": [
  {
   "cell_type": "markdown",
   "id": "4842c800-0a91-4c1b-ba23-11b14dba8a43",
   "metadata": {},
   "source": [
    "### Index/ Slicing of Lists / Strings"
   ]
  },
  {
   "cell_type": "code",
   "execution_count": null,
   "id": "735089b0-78d3-4b77-91f0-2891369ac1f6",
   "metadata": {},
   "outputs": [],
   "source": [
    "my_list = [1, False, 2000, 3.14, True, 4, 5, 'python', [1,2,3]]\n",
    "my_str = \"abcdefghijklmnopqrstuvwxyz\"\n",
    "print(my_list)\n",
    "print(len(my_list))\n",
    "print(len(my_str))\n",
    "print(my_list[-2])"
   ]
  },
  {
   "cell_type": "code",
   "execution_count": 21,
   "id": "55257c44-d153-4774-b094-89f8e20293f8",
   "metadata": {},
   "outputs": [
    {
     "name": "stdout",
     "output_type": "stream",
     "text": [
      "abc\n",
      "[2000, 3.14]\n",
      "adgj\n",
      "[2000, 4, [1, 2, 3]]\n"
     ]
    }
   ],
   "source": [
    "print(my_str[0:3])\n",
    "print(my_list[2:4])\n",
    "print(my_str[0:10:3]) # starting: Ending(Not including last) : skip one letter \n",
    "print(my_list[2:9:3]) #starting: Ending(Not including last) : skip one Element"
   ]
  },
  {
   "cell_type": "code",
   "execution_count": 24,
   "id": "ed086519-1fd9-4a24-ad83-4d1698dfec37",
   "metadata": {},
   "outputs": [
    {
     "name": "stdout",
     "output_type": "stream",
     "text": [
      "defghijklmnopqrstuvwxyz\n",
      "abcdefghij\n",
      "acegikmoqsuwy\n"
     ]
    }
   ],
   "source": [
    "print(my_str[3:]) #Empty means start from 3 and go till end\n",
    "print(my_str[:10]) #Empty means start from 0 and go till 10\n",
    "print(my_str[::2]) #Inclde all with one step crossing (Alternate)"
   ]
  },
  {
   "cell_type": "raw",
   "id": "755bdf9d-d11b-419f-80a0-66920de1f2fc",
   "metadata": {},
   "source": [
    "For reverse indexing"
   ]
  },
  {
   "cell_type": "code",
   "execution_count": 38,
   "id": "90d1ed23-6893-434a-a8f5-78615b0f3952",
   "metadata": {},
   "outputs": [
    {
     "name": "stdout",
     "output_type": "stream",
     "text": [
      "qponmlkjihgfedcb\n",
      "gikmoqsuwy\n",
      "abcdefghijklmnopqrstuvwxy\n"
     ]
    }
   ],
   "source": [
    "print(my_str[16:0:-1]) #Start will be bigeer from stop for reverse indexing\n",
    "print(my_str[-20:-1:2]) #This is not reverse indexing\n",
    "print(my_str[-26:-1]) #This is not reverse indexing"
   ]
  },
  {
   "cell_type": "code",
   "execution_count": 51,
   "id": "704865b9-df75-496a-951f-819c22774274",
   "metadata": {},
   "outputs": [
    {
     "name": "stdout",
     "output_type": "stream",
     "text": [
      "vtr\n"
     ]
    }
   ],
   "source": [
    "print(my_str[-5:-10:-2]) #step will be negative as its high to lower"
   ]
  },
  {
   "cell_type": "code",
   "execution_count": 55,
   "id": "db1df004-a427-4251-9565-5acbd928bb9e",
   "metadata": {},
   "outputs": [
    {
     "name": "stdout",
     "output_type": "stream",
     "text": [
      "qrstu\n"
     ]
    }
   ],
   "source": [
    "print(my_str[-10:-5:1]) #step will be positive as it is lower to higher , Slice step cannot be zero"
   ]
  },
  {
   "cell_type": "code",
   "execution_count": 59,
   "id": "80d983ac-2496-4c2c-9c01-e7fc0c350a72",
   "metadata": {},
   "outputs": [
    {
     "data": {
      "text/plain": [
       "'cb'"
      ]
     },
     "execution_count": 59,
     "metadata": {},
     "output_type": "execute_result"
    }
   ],
   "source": [
    "my_str[-24:0:-1]"
   ]
  },
  {
   "cell_type": "code",
   "execution_count": 64,
   "id": "71ad1de5-1df7-4c1e-9cab-7a09fa839d25",
   "metadata": {},
   "outputs": [
    {
     "name": "stdout",
     "output_type": "stream",
     "text": [
      "[1, 2, 3]\n",
      "[1, 2, 3, 4]\n"
     ]
    }
   ],
   "source": [
    "list1 = [1,2,3]\n",
    "print(list1)\n",
    "\n",
    "list1 += [4]\n",
    "print(list1)"
   ]
  },
  {
   "cell_type": "markdown",
   "id": "6f7258aa-213c-426b-826c-d877955e0c66",
   "metadata": {},
   "source": [
    "### List Methods"
   ]
  },
  {
   "cell_type": "code",
   "execution_count": 72,
   "id": "8046f6b3-b32e-40da-b258-2c0cfbe5c1b7",
   "metadata": {},
   "outputs": [
    {
     "name": "stdout",
     "output_type": "stream",
     "text": [
      "['mango', 'apple', 'banana', 'watermelon']\n"
     ]
    }
   ],
   "source": [
    "fruits = ['mango','apple','banana']\n",
    "fruits.append('watermelon')\n",
    "print(fruits)"
   ]
  },
  {
   "cell_type": "code",
   "execution_count": 83,
   "id": "c84b315c-517c-4a32-8679-50aa67e34fe5",
   "metadata": {},
   "outputs": [
    {
     "data": {
      "text/plain": [
       "['mango', 'apple', 'banana', ['watermelon', 'orange']]"
      ]
     },
     "execution_count": 83,
     "metadata": {},
     "output_type": "execute_result"
    }
   ],
   "source": [
    "fruits = ['mango','apple','banana']\n",
    "fruits.append(['watermelon', 'orange']) #it will append the list withing the list\n",
    "fruits"
   ]
  },
  {
   "cell_type": "code",
   "execution_count": 93,
   "id": "2839d8fb-59f8-4aad-8163-fe66814a438e",
   "metadata": {},
   "outputs": [
    {
     "name": "stdout",
     "output_type": "stream",
     "text": [
      "None\n",
      "['mango', 'apple', 'banana', 'watermelon', 'orange']\n"
     ]
    }
   ],
   "source": [
    "fruits = ['mango','apple','banana']\n",
    "fruits.extend(['watermelon','orange']) #it will extend the list without making another list\n",
    "fruits"
   ]
  },
  {
   "cell_type": "code",
   "execution_count": 92,
   "id": "6f9476dd-4d91-4411-98e1-134e45e4d30f",
   "metadata": {},
   "outputs": [
    {
     "data": {
      "text/plain": [
       "['apple', 'banana']"
      ]
     },
     "execution_count": 92,
     "metadata": {},
     "output_type": "execute_result"
    }
   ],
   "source": [
    "fruits = ['mango','apple','banana']\n",
    "fruits.remove('mango') #This is not giving any return, this just doing an in place operation on the list\n",
    "fruits"
   ]
  },
  {
   "cell_type": "code",
   "execution_count": 85,
   "id": "6caa1e29-2c0e-4996-8bab-bed3bd21b0f4",
   "metadata": {},
   "outputs": [
    {
     "data": {
      "text/plain": [
       "['mango', 'apple', 'watermelon', 'banana']"
      ]
     },
     "execution_count": 85,
     "metadata": {},
     "output_type": "execute_result"
    }
   ],
   "source": [
    "fruits = ['mango','apple','banana']\n",
    "fruits.insert(2,'watermelon')\n",
    "fruits"
   ]
  },
  {
   "cell_type": "code",
   "execution_count": 90,
   "id": "639df5f9-5647-467e-beb7-c7cda7a95827",
   "metadata": {},
   "outputs": [
    {
     "name": "stdout",
     "output_type": "stream",
     "text": [
      "apple\n",
      "['mango', 'banana']\n"
     ]
    }
   ],
   "source": [
    "fruits = ['mango','apple','banana']\n",
    "removed_element = fruits.pop(1) #it will remove element from a given index, pop will also give output\n",
    "print(removed_element)\n",
    "print(fruits)"
   ]
  },
  {
   "cell_type": "code",
   "execution_count": 108,
   "id": "95a5406d-8eb8-424f-b4b2-50fd508df7ee",
   "metadata": {},
   "outputs": [
    {
     "name": "stdout",
     "output_type": "stream",
     "text": [
      "['mango', 'apple', 'banana']\n",
      "['mango', 'watermelon', 'banana']\n",
      "['mango', 'watermelon', 'kiwi']\n"
     ]
    }
   ],
   "source": [
    "fruits = ['mango','apple','banana']\n",
    "print(fruits)\n",
    "\n",
    "fruits[1] = 'watermelon' #This will replace element at index 1\n",
    "print(fruits)\n",
    "\n",
    "fruits[2] = 'kiwi'\n",
    "print(fruits)"
   ]
  },
  {
   "cell_type": "markdown",
   "id": "9cd3d19e-604a-4f1d-978c-0312239ebb9d",
   "metadata": {},
   "source": [
    "### String Methods"
   ]
  },
  {
   "cell_type": "code",
   "execution_count": 102,
   "id": "656554eb-19d0-4cc2-8ff4-34b59081f39b",
   "metadata": {},
   "outputs": [
    {
     "data": {
      "text/plain": [
       "'ab8defghijklmnopqrstuvwxyz'"
      ]
     },
     "execution_count": 102,
     "metadata": {},
     "output_type": "execute_result"
    }
   ],
   "source": [
    "my_str = \"abcdefghijklmnopqrstuvwxyz\"\n",
    "my_str.replace(\"c\",\"8\")"
   ]
  },
  {
   "cell_type": "code",
   "execution_count": 103,
   "id": "e0d0d728-ab8b-4605-bba1-c38cd24185c3",
   "metadata": {},
   "outputs": [
    {
     "data": {
      "text/plain": [
       "'abcdefghijklmnopqrstuvwxyz'"
      ]
     },
     "execution_count": 103,
     "metadata": {},
     "output_type": "execute_result"
    }
   ],
   "source": [
    "my_str"
   ]
  },
  {
   "cell_type": "code",
   "execution_count": 105,
   "id": "b31b56aa-c179-41d4-80d5-c0ce199e85c2",
   "metadata": {},
   "outputs": [
    {
     "data": {
      "text/plain": [
       "'ab8defghijklmnopqrstuvwxyz'"
      ]
     },
     "execution_count": 105,
     "metadata": {},
     "output_type": "execute_result"
    }
   ],
   "source": [
    "my_str = \"abcdefghijklmnopqrstuvwxyz\"\n",
    "my_str = my_str.replace(\"c\",\"8\")\n",
    "my_str"
   ]
  },
  {
   "cell_type": "code",
   "execution_count": 109,
   "id": "dcb09c5e-7da9-4c77-827a-fb7a127e18f2",
   "metadata": {},
   "outputs": [
    {
     "ename": "TypeError",
     "evalue": "'str' object does not support item assignment",
     "output_type": "error",
     "traceback": [
      "\u001b[1;31m---------------------------------------------------------------------------\u001b[0m",
      "\u001b[1;31mTypeError\u001b[0m                                 Traceback (most recent call last)",
      "Cell \u001b[1;32mIn[109], line 2\u001b[0m\n\u001b[0;32m      1\u001b[0m my_str \u001b[38;5;241m=\u001b[39m \u001b[38;5;124m\"\u001b[39m\u001b[38;5;124mabcdefghijklmnopqrstuvwxyz\u001b[39m\u001b[38;5;124m\"\u001b[39m\n\u001b[1;32m----> 2\u001b[0m my_str[\u001b[38;5;241m2\u001b[39m] \u001b[38;5;241m=\u001b[39m \u001b[38;5;124m'\u001b[39m\u001b[38;5;124m8\u001b[39m\u001b[38;5;124m'\u001b[39m\n",
      "\u001b[1;31mTypeError\u001b[0m: 'str' object does not support item assignment"
     ]
    }
   ],
   "source": [
    "my_str = \"abcdefghijklmnopqrstuvwxyz\"\n",
    "my_str[2] = '8' #This will not work as strings are immutable. Can be done with replace function/ method"
   ]
  },
  {
   "cell_type": "code",
   "execution_count": 110,
   "id": "7dfd23ec-4486-4a1e-bae0-a067df7e7563",
   "metadata": {},
   "outputs": [
    {
     "data": {
      "text/plain": [
       "'ABCDEFGHIJKLMNOPQRSTUVWXYZ'"
      ]
     },
     "execution_count": 110,
     "metadata": {},
     "output_type": "execute_result"
    }
   ],
   "source": [
    "my_str.upper()"
   ]
  },
  {
   "cell_type": "code",
   "execution_count": 114,
   "id": "e66d3de6-7751-4920-aa53-4f4c1664168a",
   "metadata": {},
   "outputs": [
    {
     "name": "stdout",
     "output_type": "stream",
     "text": [
      "Abcdefghijklmnopqrstuvwxyz\n",
      "Abcdefghijklmnopqrstuvwxyz\n"
     ]
    }
   ],
   "source": [
    "#But if we want to make just first letter capital\n",
    "\n",
    "# Mothod 1\n",
    "my_str = \"abcdefghijklmnopqrstuvwxyz\"\n",
    "my_str = my_str[0].upper() + my_str[1:].lower()\n",
    "print(my_str)\n",
    "#Method 2\n",
    "my_str.capitalize()\n",
    "print(my_str)"
   ]
  },
  {
   "cell_type": "code",
   "execution_count": 116,
   "id": "410e34ee-8a31-4181-b71b-0446cf2f8d97",
   "metadata": {},
   "outputs": [
    {
     "data": {
      "text/plain": [
       "7"
      ]
     },
     "execution_count": 116,
     "metadata": {},
     "output_type": "execute_result"
    }
   ],
   "source": [
    "my_str = \"abcdefghijklmnopqrstuvwxyz\"\n",
    "my_str.index('h') #will return index of fisrt occuring alphabet if h is repeating"
   ]
  },
  {
   "cell_type": "code",
   "execution_count": 117,
   "id": "377474a1-7815-4f4c-bcb3-719409182b8a",
   "metadata": {},
   "outputs": [
    {
     "data": {
      "text/plain": [
       "7"
      ]
     },
     "execution_count": 117,
     "metadata": {},
     "output_type": "execute_result"
    }
   ],
   "source": [
    "my_str = \"abcdefghijklmnopqrstuvwxyz\"\n",
    "my_str.find('h')"
   ]
  },
  {
   "cell_type": "raw",
   "id": "2f9821a6-ae12-436e-9883-bf419648e265",
   "metadata": {},
   "source": [
    "If we put index no inside index argument it will return error for index and -1 will be returned in case \n",
    "of find (This will not interrupt the code)"
   ]
  },
  {
   "cell_type": "code",
   "execution_count": 118,
   "id": "cb2a57be-b20d-4813-b33f-99e1231ebfc6",
   "metadata": {},
   "outputs": [
    {
     "data": {
      "text/plain": [
       "True"
      ]
     },
     "execution_count": 118,
     "metadata": {},
     "output_type": "execute_result"
    }
   ],
   "source": [
    "my_str.isalpha()"
   ]
  },
  {
   "cell_type": "code",
   "execution_count": 119,
   "id": "620a0961-3a1a-4382-946c-64c5244b4210",
   "metadata": {},
   "outputs": [
    {
     "data": {
      "text/plain": [
       "'abc8'"
      ]
     },
     "execution_count": 119,
     "metadata": {},
     "output_type": "execute_result"
    }
   ],
   "source": [
    "'abc'+'8' #String concatenation"
   ]
  },
  {
   "cell_type": "code",
   "execution_count": 120,
   "id": "9e90af41-38ad-47d7-b97f-1585f5ec3533",
   "metadata": {},
   "outputs": [
    {
     "data": {
      "text/plain": [
       "3"
      ]
     },
     "execution_count": 120,
     "metadata": {},
     "output_type": "execute_result"
    }
   ],
   "source": [
    "my_str = \"abcdefghcijklmnopqrstcuvwxyz\"\n",
    "my_str.count('c')"
   ]
  },
  {
   "cell_type": "markdown",
   "id": "d9b33154-66cc-43a4-b5b1-d2fb49afa753",
   "metadata": {},
   "source": [
    "### Tuples"
   ]
  },
  {
   "cell_type": "code",
   "execution_count": 121,
   "id": "8588ec7e-221e-4c82-88fa-303098173a8e",
   "metadata": {},
   "outputs": [
    {
     "name": "stdout",
     "output_type": "stream",
     "text": [
      "<class 'tuple'>\n"
     ]
    }
   ],
   "source": [
    "my_tup = (1, False, 2000, 3.14, True, 4, 5, 'python', [1,2,3])\n",
    "print(type(my_tup))"
   ]
  },
  {
   "cell_type": "raw",
   "id": "3d314d15-b822-4f6d-8862-8a2ffdb253cd",
   "metadata": {},
   "source": [
    "Index has 2 methods/ functions index and count"
   ]
  },
  {
   "cell_type": "code",
   "execution_count": 122,
   "id": "e8267ae6-2760-4d23-bc88-0e8d1d8737bb",
   "metadata": {},
   "outputs": [
    {
     "data": {
      "text/plain": [
       "[1, 2, 3]"
      ]
     },
     "execution_count": 122,
     "metadata": {},
     "output_type": "execute_result"
    }
   ],
   "source": [
    "my_tup[-1] #Accessing elements in index, same as lists"
   ]
  },
  {
   "cell_type": "code",
   "execution_count": 123,
   "id": "1abf47f8-0455-469c-b444-0e2733be9e6a",
   "metadata": {},
   "outputs": [
    {
     "data": {
      "text/plain": [
       "1"
      ]
     },
     "execution_count": 123,
     "metadata": {},
     "output_type": "execute_result"
    }
   ],
   "source": [
    "my_tup.count(4)"
   ]
  },
  {
   "cell_type": "code",
   "execution_count": 126,
   "id": "98792fb9-03b4-4fd0-bfa8-56cb7266df53",
   "metadata": {},
   "outputs": [
    {
     "data": {
      "text/plain": [
       "(1, False, 2000, 'watermelon', 3.14, True, 4, 5, 'python', [1, 2, 3])"
      ]
     },
     "execution_count": 126,
     "metadata": {},
     "output_type": "execute_result"
    }
   ],
   "source": [
    "#if we want to add watermelon at index 3\n",
    "my_tup_new = my_tup[:3] + ('watermelon',) + my_tup[3:] \n",
    "#if we dont put comma (,) after watermelon, it will be treated as string and will not be concatenated\n",
    "my_tup_new"
   ]
  },
  {
   "cell_type": "code",
   "execution_count": 127,
   "id": "6148bfff-e43c-4ab5-97c4-9fcb92422773",
   "metadata": {},
   "outputs": [
    {
     "ename": "TypeError",
     "evalue": "can only concatenate tuple (not \"str\") to tuple",
     "output_type": "error",
     "traceback": [
      "\u001b[1;31m---------------------------------------------------------------------------\u001b[0m",
      "\u001b[1;31mTypeError\u001b[0m                                 Traceback (most recent call last)",
      "Cell \u001b[1;32mIn[127], line 1\u001b[0m\n\u001b[1;32m----> 1\u001b[0m (\u001b[38;5;124m'\u001b[39m\u001b[38;5;124mpython\u001b[39m\u001b[38;5;124m'\u001b[39m,) \u001b[38;5;241m+\u001b[39m (\u001b[38;5;124m'\u001b[39m\u001b[38;5;124mclass\u001b[39m\u001b[38;5;124m'\u001b[39m)\n",
      "\u001b[1;31mTypeError\u001b[0m: can only concatenate tuple (not \"str\") to tuple"
     ]
    }
   ],
   "source": [
    "('python',) + ('class') #here it will give error becauase python is tuple and class is string"
   ]
  },
  {
   "cell_type": "code",
   "execution_count": 128,
   "id": "e5b19b67-3f45-4f94-bf3a-057051d11b70",
   "metadata": {},
   "outputs": [
    {
     "data": {
      "text/plain": [
       "('python', 'class')"
      ]
     },
     "execution_count": 128,
     "metadata": {},
     "output_type": "execute_result"
    }
   ],
   "source": [
    "('python',) + ('class',) #now it will return a tuple"
   ]
  },
  {
   "cell_type": "markdown",
   "id": "b3333239-682c-42a7-a7a4-180ea4048109",
   "metadata": {},
   "source": [
    "### DICTIONARIES"
   ]
  },
  {
   "cell_type": "raw",
   "id": "91072dc7-8de9-437a-b1e0-b385683bf881",
   "metadata": {},
   "source": [
    "Dictionaries can also contain any number of different types of elements.\n",
    "Dictionaries don't hae any associated position or index, they are unordered\n",
    "We have key value pairs in dictionaries\n",
    "We will use curly brackets for dictionaries"
   ]
  },
  {
   "cell_type": "code",
   "execution_count": 132,
   "id": "537dd171-ac88-4c1c-a75b-9a508e872600",
   "metadata": {},
   "outputs": [
    {
     "name": "stdout",
     "output_type": "stream",
     "text": [
      "50\n",
      "89\n"
     ]
    }
   ],
   "source": [
    "grades = {'Hamza':95} #Hamza is key and 95 is value, one value is one ky-value pair\n",
    "grades = {'Hamza':95, 'Hassan':50, 'Abeer':89}\n",
    "# grades[1] #it will give error as there is no index no defined for dictionaries\n",
    "print(grades['Hassan']) #We will use key as index to print the value\n",
    "print(grades['Abeer'])"
   ]
  },
  {
   "cell_type": "code",
   "execution_count": 134,
   "id": "b64b2d30-a2d0-47a9-ab5b-6ab9c439fbb5",
   "metadata": {},
   "outputs": [
    {
     "data": {
      "text/plain": [
       "{'Hamza': 95, 'Hassan': 50, 'Abeer': 89, 1: 90}"
      ]
     },
     "execution_count": 134,
     "metadata": {},
     "output_type": "execute_result"
    }
   ],
   "source": [
    "grades = {'Hamza':95, 'Hassan':50, 'Abeer':89, 1:90} #integer cal also be used as key\n",
    "grades"
   ]
  },
  {
   "cell_type": "code",
   "execution_count": 139,
   "id": "276a55b4-1070-4360-9910-1316a2a34113",
   "metadata": {},
   "outputs": [
    {
     "name": "stdout",
     "output_type": "stream",
     "text": [
      "{(1, 2, 3): 'Lahore', (4, 5, 6): 'Karachi'}\n",
      "Lahore\n"
     ]
    }
   ],
   "source": [
    "#tuples as keys\n",
    "\n",
    "coordinates = {(1,2,3):'Lahore', (4,5,6):'Karachi'}\n",
    "print(coordinates)\n",
    "print(coordinates[(1,2,3)])"
   ]
  },
  {
   "cell_type": "code",
   "execution_count": 143,
   "id": "04eb0ba6-76e8-44e9-b43f-9a4ebd69c023",
   "metadata": {},
   "outputs": [
    {
     "data": {
      "text/plain": [
       "89"
      ]
     },
     "execution_count": 143,
     "metadata": {},
     "output_type": "execute_result"
    }
   ],
   "source": [
    "grades = {45:95, 56:50, 101:89} #key is oll no\n",
    "grades[101]"
   ]
  },
  {
   "cell_type": "code",
   "execution_count": 144,
   "id": "8e5f5c33-8cca-4590-96e1-b47649c7fefa",
   "metadata": {},
   "outputs": [
    {
     "data": {
      "text/plain": [
       "50"
      ]
     },
     "execution_count": 144,
     "metadata": {},
     "output_type": "execute_result"
    }
   ],
   "source": [
    "grades = {45:95, 56.5:50, 101:89} #we can also use float values for key\n",
    "grades[56.5]"
   ]
  },
  {
   "cell_type": "code",
   "execution_count": 148,
   "id": "6d39d215-65ef-4768-8877-e7faf9403615",
   "metadata": {},
   "outputs": [
    {
     "data": {
      "text/plain": [
       "{'Hamza': 95, 'Hassan': 100, 'Abeer': 89}"
      ]
     },
     "execution_count": 148,
     "metadata": {},
     "output_type": "execute_result"
    }
   ],
   "source": [
    "grades = {'Hamza':95, 'Hassan':50, 'Abeer':89, 'Hassan':100} #it will override the value of key 'Hassan'\n",
    "grades['Hassan'] #it will give latest value of 'Hassan' i.e 100\n",
    "grades"
   ]
  },
  {
   "cell_type": "code",
   "execution_count": 158,
   "id": "31008798-a080-4717-b1dd-afaa60c1f2e9",
   "metadata": {},
   "outputs": [
    {
     "data": {
      "text/plain": [
       "60"
      ]
     },
     "execution_count": 158,
     "metadata": {},
     "output_type": "execute_result"
    }
   ],
   "source": [
    "#values can have duplicates, keys cannot, values can have all sorts of structures (mutable or immutable) but keys cannot \n",
    "#have mutable structures i.e lists\n",
    "\n",
    "grades = {'Hamza':95, 'Hassan':[50,60,80], 'Abeer':89}\n",
    "grades['Hassan'][1] #it will return Hassan's marks for 2nd test"
   ]
  },
  {
   "cell_type": "raw",
   "id": "501c5857-d755-44d6-be2b-3ead1f4646fe",
   "metadata": {},
   "source": [
    "Dintionaris are mutable, we can't have dictionaries as dictionary key but dict can be value - Mutable class can't be a Dictionary"
   ]
  },
  {
   "cell_type": "code",
   "execution_count": 162,
   "id": "4a979d39-3c98-4165-bd4d-87e2deda8533",
   "metadata": {},
   "outputs": [
    {
     "data": {
      "text/plain": [
       "{'Hamza': 95, 'Hassan': 80, 'Abeer': 89}"
      ]
     },
     "execution_count": 162,
     "metadata": {},
     "output_type": "execute_result"
    }
   ],
   "source": [
    "grades['Hassan'] = 80 \n",
    "grades"
   ]
  },
  {
   "cell_type": "code",
   "execution_count": 163,
   "id": "2f6be534-b336-40ee-8f1c-1633f2e4dc4b",
   "metadata": {},
   "outputs": [
    {
     "data": {
      "text/plain": [
       "{'Hamza': 95, 'Hassan': [50, 70, 80], 'Abeer': 89}"
      ]
     },
     "execution_count": 163,
     "metadata": {},
     "output_type": "execute_result"
    }
   ],
   "source": [
    "grades = {'Hamza':95, 'Hassan':[50,60,80], 'Abeer':89}\n",
    "grades['Hassan'][1] = 70 #if we want to change marks of Hassan in 2nd test, same as we did in list and tuples\n",
    "grades"
   ]
  },
  {
   "cell_type": "code",
   "execution_count": 2,
   "id": "511c2cb1-f2b5-4aa6-8b27-ee53d4ffb5e2",
   "metadata": {},
   "outputs": [
    {
     "name": "stdout",
     "output_type": "stream",
     "text": [
      "80\n",
      "{'english': 80, 'python': 85}\n",
      "80\n"
     ]
    }
   ],
   "source": [
    "#nested dictionary\n",
    "\n",
    "grades3 = {\"Hamza\": {\"english\":80, \"python\":85}, \"Hassan\": [80, 90, 95], \"Abeer\":[85, 80, 75]}\n",
    "\n",
    "print(grades3[\"Hamza\"][\"english\"])\n",
    "\n",
    "\n",
    "print(grades3[\"Hamza\"]) #will look for the key Hamza in grades3 and return a value, which is a whole dictionary itself\n",
    "print(grades3[\"Hamza\"][\"english\"]) #will then look for the \"english\" key in the nested dictionary and return its value"
   ]
  },
  {
   "cell_type": "code",
   "execution_count": 3,
   "id": "a666c904-8704-4bf2-a4df-f1457770617c",
   "metadata": {},
   "outputs": [
    {
     "name": "stdout",
     "output_type": "stream",
     "text": [
      "{100: 'Hassan', 200: 'Hamza', 300: 'Abdullah'}\n"
     ]
    }
   ],
   "source": [
    "#since dictionaries are MUTABLE, you can directly change value of a key like this\n",
    "\n",
    "roll_no = {100: \"Hassan\", 200:\"Hamza\", 300: \"Abeer\"}\n",
    "\n",
    "roll_no[300] = \"Abdullah\"\n",
    "\n",
    "print(roll_no)"
   ]
  },
  {
   "cell_type": "code",
   "execution_count": null,
   "id": "bf12c703-c48e-44a6-989c-ee3567ba2bb4",
   "metadata": {},
   "outputs": [],
   "source": [
    "#if you assign a value to a key that does not exist in the dictionary, it is AUTOMATICALLY ADDED TO THE DICTIONARY\n",
    "roll_no = {100: \"Hassan\", 200:\"Hamza\", 300: \"Abeer\"}\n",
    "\n",
    "roll_no[400] = \"Ahsan\"\n",
    "\n",
    "print(roll_no)"
   ]
  },
  {
   "cell_type": "code",
   "execution_count": null,
   "id": "03221a8a-ed13-4346-a2f4-5b5579d700b4",
   "metadata": {},
   "outputs": [],
   "source": [
    "#Incrementing a dictionary key: way 1\n",
    "\n",
    "grades = {\"Hamza\":95, \"Hassan\":50, \"Abeer\": 89}\n",
    "grades[\"Hamza\"] = grades[\"Hamza\"] + 5\n",
    "\n",
    "print(grades[\"Hamza\"])"
   ]
  },
  {
   "cell_type": "code",
   "execution_count": null,
   "id": "cdc92f19-ef03-4288-b87d-71b9c8c39684",
   "metadata": {},
   "outputs": [],
   "source": [
    "#Incrementing a dictionary key: way 2\n",
    "\n",
    "grades = {\"Hamza\":95, \"Hassan\":50, \"Abeer\": 89}\n",
    "grades[\"Hamza\"] += 5\n",
    "\n",
    "print(grades[\"Hamza\"])"
   ]
  },
  {
   "cell_type": "code",
   "execution_count": null,
   "id": "43250361-da2e-4c62-8aaf-bd67a0ba6474",
   "metadata": {},
   "outputs": [],
   "source": [
    "grades2 = {\"Hamza\": [80, 85, 70], \"Hassan\": [80, 90, 95], \"Abeer\":[85, 80, 75]}\n",
    "\n",
    "#now grades2[\"Hamza\"] is returning a list \n",
    "#so if you need an element from the list, you need to add list indexing after fetching the key value\n",
    "grades2[\"Hassan\"][1] += 5 \n",
    "\n",
    "print(grades2)"
   ]
  },
  {
   "cell_type": "code",
   "execution_count": null,
   "id": "153b7401-b26c-49d5-9fd5-7d0798bb69be",
   "metadata": {},
   "outputs": [],
   "source": [
    "#an operation like this will result in an error however\n",
    "# if the key doesn't already exist, you cannot update it\n",
    "\n",
    "roll_no = {100: \"Hassan\", 200:\"Hamza\", 300: \"Abeer\", 400: \"Ahsan\"}\n",
    "\n",
    "roll_no[600] += 5"
   ]
  },
  {
   "cell_type": "code",
   "execution_count": 6,
   "id": "f827dee4-c296-4450-b743-59cc7fc8fd80",
   "metadata": {},
   "outputs": [],
   "source": [
    "# #but if we add roll no 600 below, it will then make the increment in the key value\n",
    "\n",
    "# roll_no = {100: \"Hassan\", 200:\"Hamza\", 300: \"Abeer\", 400: \"Ahsan\"}\n",
    "# roll_no[600] = \"Farhan\"\n",
    "# print(roll_no)\n",
    "# print(roll_no[600])\n",
    "# print(roll_no)"
   ]
  },
  {
   "cell_type": "code",
   "execution_count": 168,
   "id": "fb3f9c2e-06c3-4179-97cb-25e6ee63ed91",
   "metadata": {},
   "outputs": [
    {
     "data": {
      "text/plain": [
       "[1, False, 2000, 3.14, True, 4, 5, 'python', [1, 2, 3]]"
      ]
     },
     "execution_count": 168,
     "metadata": {},
     "output_type": "execute_result"
    }
   ],
   "source": [
    "# Data Structures can do inter conversion same as data types e.g\n",
    "\n",
    "my_tup = (1, False, 2000, 3.14, True, 4, 5, 'python', [1,2,3])\n",
    "my_tup = list(my_tup)\n",
    "my_tup"
   ]
  },
  {
   "cell_type": "markdown",
   "id": "6ff46131-2dcf-476e-9633-0779fe6b1804",
   "metadata": {},
   "source": [
    "#### DICTIONARY METHODS"
   ]
  },
  {
   "cell_type": "raw",
   "id": "8f03721d-f0d4-496f-ab72-612542f44b67",
   "metadata": {},
   "source": [
    "clear()\tRemoves all the elements from the dictionary #Same as List\n",
    "copy()\tReturns a copy of the dictionary #Same as List\n",
    "fromkeys()\tReturns a dictionary with the specified keys and value \n",
    "get()\tReturns the value of the specified key\n",
    "items()\tReturns a list containing a tuple for each key value pair\n",
    "keys()\tReturns a list containing the dictionary's keys\n",
    "pop()\tRemoves the element with the specified key\n",
    "popitem()\tRemoves the last inserted key-value pair\n",
    "setdefault()\tReturns the value of the specified key. If the key does not exist: insert the key, with the specified value\n",
    "update()\tUpdates the dictionary with the specified key-value pairs\n",
    "values()\tReturns a list of all the values in the dictionary"
   ]
  },
  {
   "cell_type": "code",
   "execution_count": 8,
   "id": "c812df3c-144b-4dbf-8469-3d0f32a84a38",
   "metadata": {},
   "outputs": [
    {
     "name": "stdout",
     "output_type": "stream",
     "text": [
      "{'brand': 'Ford', 'model': 'Mustang', 'year': 1964}\n",
      "{}\n"
     ]
    }
   ],
   "source": [
    "car = { \"brand\": \"Ford\", \"model\": \"Mustang\", \"year\": 1964}\n",
    "print(car)\n",
    "car.clear()\n",
    "print(car)"
   ]
  },
  {
   "cell_type": "code",
   "execution_count": 12,
   "id": "e2032616-4e08-4f6f-9f0f-1095f1b50338",
   "metadata": {},
   "outputs": [
    {
     "name": "stdout",
     "output_type": "stream",
     "text": [
      "{'brand': 'Ford', 'model': 'Mustang', 'year': 1964}\n"
     ]
    }
   ],
   "source": [
    "car = { \"brand\": \"Ford\", \"model\": \"Mustang\", \"year\": 1964}\n",
    "x = car.copy()\n",
    "print(x)"
   ]
  },
  {
   "cell_type": "code",
   "execution_count": 14,
   "id": "6bb419ee-770b-4575-bbad-3d5afae6e716",
   "metadata": {},
   "outputs": [
    {
     "name": "stdout",
     "output_type": "stream",
     "text": [
      "{'key1': 0, 'key2': 0, 'key3': 0}\n",
      "{'key1': None, 'key2': None, 'key3': None}\n"
     ]
    }
   ],
   "source": [
    "# Create a dictionary with 3 keys, all with the value 0:\n",
    "\n",
    "x = ('key1', 'key2', 'key3')\n",
    "y = 0\n",
    "\n",
    "thisdict = dict.fromkeys(x, y)\n",
    "\n",
    "print(thisdict)\n",
    "\n",
    "#Same example as above, but without specifying the value:\n",
    "\n",
    "x = ('key1', 'key2', 'key3')\n",
    "\n",
    "thisdict = dict.fromkeys(x) #It will return vlue as none if noe specified\n",
    "\n",
    "print(thisdict)"
   ]
  },
  {
   "cell_type": "code",
   "execution_count": 15,
   "id": "098dc59d-282e-4d0b-bc9f-91957cfe0eea",
   "metadata": {},
   "outputs": [
    {
     "name": "stdout",
     "output_type": "stream",
     "text": [
      "Mustang\n"
     ]
    }
   ],
   "source": [
    "#Get the value of the \"model\" value/item:\n",
    "\n",
    "car = { \"brand\": \"Ford\", \"model\": \"Mustang\", \"year\": 1964}\n",
    "x = car.get(\"model\")\n",
    "print(x)"
   ]
  },
  {
   "cell_type": "code",
   "execution_count": 17,
   "id": "7046f7be-5f49-49af-bfe1-141df135bffc",
   "metadata": {},
   "outputs": [
    {
     "name": "stdout",
     "output_type": "stream",
     "text": [
      "15000\n"
     ]
    }
   ],
   "source": [
    "#Get the value of a key that doesn't exist\n",
    "\n",
    "car = { \"brand\": \"Ford\", \"model\": \"Mustang\", \"year\": 1964}\n",
    "x = car.get(\"price\", 15000) #get can take 2 arguments, here it will return 15000 as price\n",
    "\n",
    "print(x)"
   ]
  },
  {
   "cell_type": "code",
   "execution_count": 18,
   "id": "5e19198f-844d-4db1-b78a-6599a1ec0878",
   "metadata": {},
   "outputs": [
    {
     "name": "stdout",
     "output_type": "stream",
     "text": [
      "dict_items([('brand', 'Ford'), ('model', 'Mustang'), ('year', 1964)])\n"
     ]
    }
   ],
   "source": [
    "#Return the dictionary's key-value pairs:\n",
    "\n",
    "car = { \"brand\": \"Ford\", \"model\": \"Mustang\", \"year\": 1964}\n",
    "x = car.items() #Key value pair will be returned as a List\n",
    "\n",
    "print(x)"
   ]
  },
  {
   "cell_type": "code",
   "execution_count": 19,
   "id": "d22aeb6c-da20-407a-ab4b-54deb0f80031",
   "metadata": {},
   "outputs": [
    {
     "name": "stdout",
     "output_type": "stream",
     "text": [
      "dict_items([('brand', 'Ford'), ('model', 'Mustang'), ('year', 2018)])\n"
     ]
    }
   ],
   "source": [
    "#When an item in the dictionary changes value, the view object also gets updated\n",
    "\n",
    "x = car.items()\n",
    "\n",
    "car[\"year\"] = 2018\n",
    "\n",
    "print(x)"
   ]
  },
  {
   "cell_type": "code",
   "execution_count": 20,
   "id": "3486973f-39f6-497a-b2da-fe3d81c4bacd",
   "metadata": {},
   "outputs": [
    {
     "name": "stdout",
     "output_type": "stream",
     "text": [
      "dict_keys(['brand', 'model', 'year'])\n"
     ]
    }
   ],
   "source": [
    "#To return the keys:\n",
    "\n",
    "x = car.keys()\n",
    "\n",
    "print(x)"
   ]
  },
  {
   "cell_type": "code",
   "execution_count": 21,
   "id": "e7bac59a-0add-479d-90fd-cbd62224034a",
   "metadata": {},
   "outputs": [
    {
     "name": "stdout",
     "output_type": "stream",
     "text": [
      "{'brand': 'Ford', 'year': 2018}\n"
     ]
    }
   ],
   "source": [
    "#Remove \"model\" from the dictionary:\n",
    "\n",
    "car.pop(\"model\")\n",
    "\n",
    "print(car)"
   ]
  },
  {
   "cell_type": "code",
   "execution_count": 24,
   "id": "e16c033d-2605-420b-bf58-cdcad85b8a69",
   "metadata": {},
   "outputs": [
    {
     "name": "stdout",
     "output_type": "stream",
     "text": [
      "('year', 1964)\n"
     ]
    }
   ],
   "source": [
    "#Remove the last item from the dictionary:\n",
    "\n",
    "car = { \"brand\": \"Ford\", \"model\": \"Mustang\", \"year\": 1964}\n",
    "x = car.popitem() #Removed item will be saved in x\n",
    "print(x) #will print the removed item"
   ]
  },
  {
   "cell_type": "code",
   "execution_count": 26,
   "id": "da9ee6eb-91c1-4002-a7ee-60e94059fbe2",
   "metadata": {},
   "outputs": [
    {
     "name": "stdout",
     "output_type": "stream",
     "text": [
      "Mustang\n"
     ]
    }
   ],
   "source": [
    "#Get the value of the \"model\" value/item:\n",
    "\n",
    "car = { \"brand\": \"Ford\", \"model\": \"Mustang\", \"year\": 1964}\n",
    "x = car.setdefault(\"model\", \"Bronco\") \n",
    "print(x)"
   ]
  },
  {
   "cell_type": "code",
   "execution_count": 27,
   "id": "5192266d-bbfd-4c9d-91dc-308864e75114",
   "metadata": {},
   "outputs": [
    {
     "name": "stdout",
     "output_type": "stream",
     "text": [
      "white\n"
     ]
    }
   ],
   "source": [
    "#Get the value of the \"color\" item, if the \"color\" item does not exist, insert \"color\" with the value \"white\":\n",
    "\n",
    "car = { \"brand\": \"Ford\", \"model\": \"Mustang\", \"year\": 1964}\n",
    "\n",
    "x  = car.setdefault(\"color\", \"white\")\n",
    "\n",
    "print(x)"
   ]
  },
  {
   "cell_type": "code",
   "execution_count": 28,
   "id": "45a76cc7-65bf-4953-94af-4bb3d8e3f355",
   "metadata": {},
   "outputs": [
    {
     "name": "stdout",
     "output_type": "stream",
     "text": [
      "{'brand': 'Ford', 'model': 'Mustang', 'year': 1964, 'color': 'White'}\n"
     ]
    }
   ],
   "source": [
    "#Insert an item to the dictionary:\n",
    "\n",
    "car = { \"brand\": \"Ford\", \"model\": \"Mustang\", \"year\": 1964}\n",
    "\n",
    "car.update({\"color\": \"White\"}) #we will insert with curly braces like dictionaries\n",
    "\n",
    "print(car)"
   ]
  },
  {
   "cell_type": "code",
   "execution_count": 36,
   "id": "afd85aba-f714-493d-a601-88b601bc5997",
   "metadata": {},
   "outputs": [
    {
     "name": "stdout",
     "output_type": "stream",
     "text": [
      "dict_values(['Ford', 'Mustang', 1964])\n"
     ]
    }
   ],
   "source": [
    "#Return a list of all the values in the dictionary\n",
    "\n",
    "car = { \"brand\": \"Ford\", \"model\": \"Mustang\", \"year\": 1964}\n",
    "\n",
    "x = cars.values()\n",
    "\n",
    "print(x)"
   ]
  },
  {
   "cell_type": "code",
   "execution_count": 37,
   "id": "ab56d73a-ffe3-4375-a04a-659e51dac751",
   "metadata": {},
   "outputs": [
    {
     "name": "stdout",
     "output_type": "stream",
     "text": [
      "dict_values(['Ford', 'Mustang', 2018])\n"
     ]
    }
   ],
   "source": [
    "#When a values is changed in the dictionary, the view object also gets updated:\n",
    "\n",
    "car = { \"brand\": \"Ford\", \"model\": \"Mustang\", \"year\": 1964}\n",
    "\n",
    "x = car.values()\n",
    "\n",
    "car[\"year\"] = 2018\n",
    "\n",
    "print(x)"
   ]
  }
 ],
 "metadata": {
  "kernelspec": {
   "display_name": "Python 3 (ipykernel)",
   "language": "python",
   "name": "python3"
  },
  "language_info": {
   "codemirror_mode": {
    "name": "ipython",
    "version": 3
   },
   "file_extension": ".py",
   "mimetype": "text/x-python",
   "name": "python",
   "nbconvert_exporter": "python",
   "pygments_lexer": "ipython3",
   "version": "3.11.7"
  }
 },
 "nbformat": 4,
 "nbformat_minor": 5
}
