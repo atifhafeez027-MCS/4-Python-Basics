{
 "cells": [
  {
   "cell_type": "code",
   "execution_count": 1,
   "id": "878c95a0-41ee-416e-9f88-ea2563e3a2ff",
   "metadata": {},
   "outputs": [],
   "source": [
    "hassan = {'Mathematics' : 78, 'Programming' : 82,'Biology' : 65, 'Physics' : 80, 'Chemistry' : 50}\n",
    "grades = {'A' : range(90,101), 'B+' : range(89,90), 'B' : range(60,80), 'C' : range(40,60), 'F' : range(0,40)}\n",
    "\n",
    "grades2 = {'Hamza' : [80,85,70], 'Hassan' : [80,90,95], 'Abeer' : [85,80,75]}\n",
    "lists = [['apple', 'mango', 'banana'], [1,2,3,4,5], [True, False, False]]\n",
    "\n",
    "fruits = ['mango', 'apple', 'banana', 'grapes', 'watermelon', \"melon\"]\n",
    "           "
   ]
  },
  {
   "cell_type": "code",
   "execution_count": 2,
   "id": "b74367a6-f1de-4a98-8456-a694039a6c8c",
   "metadata": {},
   "outputs": [
    {
     "name": "stdout",
     "output_type": "stream",
     "text": [
      "m\n",
      "a\n",
      "n\n",
      "g\n",
      "o\n",
      "\n",
      "\n",
      "a\n",
      "p\n",
      "p\n",
      "l\n",
      "e\n",
      "\n",
      "\n",
      "b\n",
      "a\n",
      "n\n",
      "a\n",
      "n\n",
      "a\n",
      "\n",
      "\n",
      "g\n",
      "r\n",
      "a\n",
      "p\n",
      "e\n",
      "s\n",
      "\n",
      "\n",
      "w\n",
      "a\n",
      "t\n",
      "e\n",
      "r\n",
      "m\n",
      "e\n",
      "l\n",
      "o\n",
      "n\n",
      "\n",
      "\n",
      "m\n",
      "e\n",
      "l\n",
      "o\n",
      "n\n",
      "\n",
      "\n"
     ]
    }
   ],
   "source": [
    "fruits = ['mango', 'apple', 'banana', 'grapes', 'watermelon', \"melon\"]\n",
    "\n",
    "for i in fruits:\n",
    "    for el in i:\n",
    "        print(el)\n",
    "    print('\\n')"
   ]
  },
  {
   "cell_type": "code",
   "execution_count": 3,
   "id": "d4240413-0957-4739-aa8d-77177ee8987e",
   "metadata": {},
   "outputs": [
    {
     "data": {
      "text/plain": [
       "'m'"
      ]
     },
     "execution_count": 3,
     "metadata": {},
     "output_type": "execute_result"
    }
   ],
   "source": [
    "fruits = ['mango', 'apple', 'banana', 'grapes', 'watermelon', \"melon\"]\n",
    "\n",
    "fruits[0][0]"
   ]
  },
  {
   "cell_type": "code",
   "execution_count": 4,
   "id": "01c048c7-5b6a-4277-b854-4ff65e6590f4",
   "metadata": {},
   "outputs": [
    {
     "name": "stdout",
     "output_type": "stream",
     "text": [
      "apple\n",
      "mango\n",
      "banana\n",
      "1\n",
      "2\n",
      "3\n",
      "4\n",
      "5\n",
      "True\n",
      "False\n",
      "False\n"
     ]
    }
   ],
   "source": [
    "lists = [['apple', 'mango', 'banana'], [1,2,3,4,5], [True, False, False]]\n",
    "\n",
    "for i in lists:\n",
    "    for el in i:\n",
    "        print(el)"
   ]
  },
  {
   "cell_type": "markdown",
   "id": "61d2c69a-6e00-4a8c-b94c-1321047b8e40",
   "metadata": {},
   "source": [
    "### FOR LOOPS IN DICTIONARIES"
   ]
  },
  {
   "cell_type": "code",
   "execution_count": 5,
   "id": "17498228-9b77-44f2-8db1-e62a92163e61",
   "metadata": {},
   "outputs": [
    {
     "name": "stdout",
     "output_type": "stream",
     "text": [
      "Hamza\n",
      "[80, 85, 70]\n",
      "\n",
      "\n",
      "Hassan\n",
      "[80, 90, 95]\n",
      "\n",
      "\n",
      "Abeer\n",
      "[85, 80, 75]\n",
      "\n",
      "\n"
     ]
    }
   ],
   "source": [
    "# i takes key as iteratable in for loop\n",
    "\n",
    "grades2 = {'Hamza' : [80,85,70], 'Hassan' : [80,90,95], 'Abeer' : [85,80,75]}\n",
    "\n",
    "for i in grades2:\n",
    "    print(i)\n",
    "    print(grades2[i]) #This will print key with the values\n",
    "    print('\\n')"
   ]
  },
  {
   "cell_type": "code",
   "execution_count": 6,
   "id": "5cdb0f97-98e7-40ba-a63e-56fb783d896d",
   "metadata": {},
   "outputs": [
    {
     "name": "stdout",
     "output_type": "stream",
     "text": [
      "Hamza\n",
      "80\n",
      "85\n",
      "70\n",
      "\n",
      "\n",
      "Hassan\n",
      "80\n",
      "90\n",
      "95\n",
      "\n",
      "\n",
      "Abeer\n",
      "85\n",
      "80\n",
      "75\n",
      "\n",
      "\n"
     ]
    }
   ],
   "source": [
    "#to print \n",
    "\n",
    "grades2 = {'Hamza' : [80,85,70], 'Hassan' : [80,90,95], 'Abeer' : [85,80,75]}\n",
    "\n",
    "for i in grades2:\n",
    "    print(i)\n",
    "    for k in grades2[i]: #Here,k will iterate of values of i(which is the key)\n",
    "        print(k)\n",
    "\n",
    "    print(\"\\n\")"
   ]
  },
  {
   "cell_type": "markdown",
   "id": "0cf37b96-c554-48d8-97f8-7c0e881f387a",
   "metadata": {},
   "source": [
    "##### BREAK, CONTINUE AND PASS STATEMENTS"
   ]
  },
  {
   "cell_type": "code",
   "execution_count": 7,
   "id": "1b4505a0-aaaa-44c6-a36c-1732a82e5d1b",
   "metadata": {},
   "outputs": [
    {
     "name": "stdout",
     "output_type": "stream",
     "text": [
      "T\n",
      "h\n",
      "i\n",
      "s\n",
      " \n",
      "i\n",
      "s\n",
      " \n",
      "a\n",
      " \n",
      "P\n"
     ]
    }
   ],
   "source": [
    "my_str = \"This is a Python class\"\n",
    "\n",
    "for i in my_str:\n",
    "    print(i)\n",
    "    if i == \"P\":\n",
    "        break"
   ]
  },
  {
   "cell_type": "code",
   "execution_count": 8,
   "id": "e833ee6e-6ede-4cb0-a258-bdcdeded7e68",
   "metadata": {},
   "outputs": [
    {
     "name": "stdout",
     "output_type": "stream",
     "text": [
      "T\n",
      "h\n",
      "i\n",
      "s\n",
      " \n",
      "i\n",
      "s\n",
      " \n",
      "a\n",
      " \n"
     ]
    }
   ],
   "source": [
    "my_str = \"This is a Python class\"\n",
    "\n",
    "for i in my_str:\n",
    "    if i == \"P\":\n",
    "        break\n",
    "    print(i)"
   ]
  },
  {
   "cell_type": "code",
   "execution_count": 9,
   "id": "e560716b-6dca-424b-8fd9-d32d470466a7",
   "metadata": {},
   "outputs": [
    {
     "name": "stdout",
     "output_type": "stream",
     "text": [
      "T\n",
      "h\n",
      "i\n",
      "s\n",
      " \n",
      "i\n",
      "s\n",
      " \n",
      "a\n",
      " \n",
      "y\n",
      "t\n",
      "h\n",
      "o\n",
      "n\n",
      " \n",
      "c\n",
      "l\n",
      "a\n",
      "s\n",
      "s\n"
     ]
    }
   ],
   "source": [
    "my_str = \"This is a Python class\"\n",
    "\n",
    "for i in my_str:\n",
    "    if i == \"P\":\n",
    "        continue\n",
    "    print(i)"
   ]
  },
  {
   "cell_type": "code",
   "execution_count": 10,
   "id": "06ef7642-cfec-4aa9-bd05-9139de809951",
   "metadata": {},
   "outputs": [
    {
     "name": "stdout",
     "output_type": "stream",
     "text": [
      "T\n",
      "h\n",
      "i\n",
      "s\n",
      " \n",
      "i\n",
      "s\n",
      " \n",
      "a\n",
      " \n",
      "P\n",
      "y\n",
      "t\n",
      "h\n",
      "o\n",
      "n\n",
      " \n",
      "c\n",
      "l\n",
      "a\n",
      "s\n",
      "s\n"
     ]
    }
   ],
   "source": [
    "my_str = \"This is a Python class\"\n",
    "\n",
    "for i in my_str:\n",
    "    if i == \"P\":\n",
    "        pass\n",
    "    print(i)"
   ]
  },
  {
   "cell_type": "code",
   "execution_count": 11,
   "id": "a1d5550e-7589-4ebb-a10a-647be7a25503",
   "metadata": {},
   "outputs": [
    {
     "name": "stdout",
     "output_type": "stream",
     "text": [
      "1\n",
      "2\n",
      "4\n",
      "5\n",
      "Loop completed\n"
     ]
    }
   ],
   "source": [
    "lst = [1,2,4,5]\n",
    "\n",
    "for i in lst:\n",
    "    print(i)\n",
    "    if i==3:\n",
    "        break\n",
    "\n",
    "else: #else will be executed if the loop continue to execute instead of breaking\n",
    "    print(\"Loop completed\")\n",
    "\n",
    "# else will not be executed if we break the while loop, but the condition of loop is false (when all iterations done) it will then execute the else"
   ]
  },
  {
   "cell_type": "code",
   "execution_count": 12,
   "id": "7bb11025-1d86-482d-bb84-2324ff0c4811",
   "metadata": {},
   "outputs": [
    {
     "name": "stdout",
     "output_type": "stream",
     "text": [
      "3 found\n"
     ]
    }
   ],
   "source": [
    "for x in range(0,10):\n",
    "    if x == 3:\n",
    "        print(\"3 found\")\n",
    "        break\n",
    "\n",
    "else:\n",
    "    print(\"Loop Completed, 3 not found\")"
   ]
  },
  {
   "cell_type": "markdown",
   "id": "a77f6d9f-27cf-486a-8791-20d3927a5009",
   "metadata": {},
   "source": [
    "### WHILE LOOP"
   ]
  },
  {
   "cell_type": "code",
   "execution_count": 13,
   "id": "5f4f2b32-4558-4fff-b172-ee2d3d49ca69",
   "metadata": {},
   "outputs": [
    {
     "name": "stdout",
     "output_type": "stream",
     "text": [
      "Value of i is now 6\n",
      "Hello\n",
      "\n",
      "Value of i is now 5\n",
      "Hello\n",
      "\n",
      "Value of i is now 4\n",
      "Hello\n",
      "\n",
      "Value of i is now 3\n",
      "Hello\n",
      "\n",
      "Value of i is now 2\n",
      "Hello\n",
      "\n",
      "Value of i is now 1\n",
      "Hello\n",
      "\n"
     ]
    }
   ],
   "source": [
    "i = 6\n",
    "\n",
    "while i > 0:\n",
    "    print(\"Value of i is now\",i)\n",
    "    print(\"Hello\\n\")\n",
    "    i -= 1 #we need to decrease the value of i otherwise it will run infinite times and kernel interupt will be required"
   ]
  },
  {
   "cell_type": "code",
   "execution_count": 20,
   "id": "f63deeaa-8520-4773-ad91-2c8376f8070b",
   "metadata": {},
   "outputs": [
    {
     "name": "stdout",
     "output_type": "stream",
     "text": [
      "6\n",
      "Hello\n",
      "5\n",
      "Hello\n",
      "4\n"
     ]
    }
   ],
   "source": [
    "i = 6\n",
    "\n",
    "while i > 0:\n",
    "    print(i)\n",
    "    i -= 1\n",
    "    \n",
    "    if i == 3:\n",
    "        break\n",
    "    print(\"Hello\")"
   ]
  },
  {
   "cell_type": "code",
   "execution_count": 16,
   "id": "ac1d46e5-1edd-464b-8194-919ca827f08e",
   "metadata": {},
   "outputs": [
    {
     "name": "stdout",
     "output_type": "stream",
     "text": [
      "5\n",
      "4\n",
      "2\n",
      "1\n",
      "0\n"
     ]
    }
   ],
   "source": [
    "i = 6\n",
    "while i > 0:\n",
    "    i -= 1\n",
    "    if i == 3:\n",
    "        continue\n",
    "    print(i)"
   ]
  },
  {
   "cell_type": "code",
   "execution_count": 19,
   "id": "b1b7d75e-18df-460d-9ec9-079c4f34cad3",
   "metadata": {},
   "outputs": [
    {
     "name": "stdout",
     "output_type": "stream",
     "text": [
      "6\n",
      "5\n",
      "4\n",
      "2\n",
      "1\n"
     ]
    }
   ],
   "source": [
    "i = 6\n",
    "\n",
    "while i > 0:\n",
    "   \n",
    "    if i == 3:\n",
    "        i -= 1\n",
    "        continue\n",
    "    print(i)\n",
    "    i -= 1"
   ]
  },
  {
   "cell_type": "code",
   "execution_count": 22,
   "id": "1e32cd6f-1b5b-42e2-b791-43682bb863c6",
   "metadata": {},
   "outputs": [
    {
     "name": "stdout",
     "output_type": "stream",
     "text": [
      "6\n",
      "5\n",
      "4\n",
      "3\n",
      "2\n",
      "1\n",
      "While loop completed\n"
     ]
    }
   ],
   "source": [
    "i = 6\n",
    "\n",
    "while i > 0:\n",
    "    print(i)\n",
    "    i -= 1\n",
    "    \n",
    "    # if i == 3:\n",
    "    #     break\n",
    "else:\n",
    "    print(\"While loop completed\")"
   ]
  },
  {
   "cell_type": "code",
   "execution_count": 2,
   "id": "b407c7f2-1b8e-4693-b423-f478f2372a4c",
   "metadata": {},
   "outputs": [
    {
     "name": "stdin",
     "output_type": "stream",
     "text": [
      "Please enter the number here:  50\n"
     ]
    }
   ],
   "source": [
    "user_input = input(\"Please enter the number here: \") #input stores the user input as string by default"
   ]
  },
  {
   "cell_type": "code",
   "execution_count": 6,
   "id": "426bd73f-deb2-4839-b456-a5a55d8dbfb2",
   "metadata": {},
   "outputs": [
    {
     "name": "stdin",
     "output_type": "stream",
     "text": [
      "Please enter the number here:  50\n"
     ]
    }
   ],
   "source": [
    "#We can do this for comparison\n",
    "#int(user_input) >= 65 \n",
    "#but if we want to store user input as integer then ....\n",
    "user_input = int(input(\"Please enter the number here: \"))"
   ]
  },
  {
   "cell_type": "code",
   "execution_count": 8,
   "id": "98ff8624-87da-4617-b98b-bb4f7b3c64c8",
   "metadata": {},
   "outputs": [
    {
     "data": {
      "text/plain": [
       "False"
      ]
     },
     "execution_count": 8,
     "metadata": {},
     "output_type": "execute_result"
    }
   ],
   "source": [
    "user_input >= 65"
   ]
  },
  {
   "cell_type": "markdown",
   "id": "43947658-5aca-47b9-a2af-7d52ed952d60",
   "metadata": {},
   "source": [
    "#### WHILE LOOP GAME EXAMPLE"
   ]
  },
  {
   "cell_type": "code",
   "execution_count": 20,
   "id": "1ef7c26b-b978-4f59-ae1d-4b75c522b073",
   "metadata": {},
   "outputs": [
    {
     "name": "stdin",
     "output_type": "stream",
     "text": [
      "Please Enter the Number: 5\n",
      "Wrong..!! Please enter the Number again:  9\n",
      "Wrong..!! Please enter the Number again:  1\n"
     ]
    },
    {
     "name": "stdout",
     "output_type": "stream",
     "text": [
      "You lost.. Sorry\n"
     ]
    }
   ],
   "source": [
    "user_input = int(input(\"Please Enter the Number:\"))\n",
    "answer = 50\n",
    "guesses = 3\n",
    "\n",
    "while user_input != answer:\n",
    "    guesses -= 1\n",
    "    if guesses == 0:\n",
    "        print(\"You lost.. Sorry\")\n",
    "        break\n",
    "\n",
    "    user_input = int(input(\"Wrong..!! Please enter the Number again: \"))"
   ]
  },
  {
   "cell_type": "code",
   "execution_count": 27,
   "id": "b671a29c-2eec-4397-b4f1-371ae1eab71a",
   "metadata": {},
   "outputs": [
    {
     "name": "stdin",
     "output_type": "stream",
     "text": [
      "Please enter the Number here, You have 3 guesses:  5\n"
     ]
    },
    {
     "name": "stdout",
     "output_type": "stream",
     "text": [
      "Wrong Answer !!  2 attempts left\n"
     ]
    },
    {
     "name": "stdin",
     "output_type": "stream",
     "text": [
      "Please enter the Number Again:  50\n"
     ]
    },
    {
     "name": "stdout",
     "output_type": "stream",
     "text": [
      "Congratulations!! You have guessed it right\n"
     ]
    }
   ],
   "source": [
    "#2nd Method\n",
    "\n",
    "user_input = int(input(\"Please enter the Number here, You have 3 guesses: \"))\n",
    "\n",
    "answer = 50\n",
    "guesses = 3\n",
    "\n",
    "while guesses > 1:\n",
    "    guesses -= 1\n",
    "    if user_input == answer:\n",
    "        print(\"Congratulations!! You have guessed it right\")\n",
    "        break\n",
    "    else:\n",
    "        print(\"Wrong Answer !! \",guesses, \"attempts left\")\n",
    "        user_input = int(input(\"Please enter the Number Again: \"))\n",
    "else:\n",
    "    print(\"You have used all yout attempts. Better luck next time\")"
   ]
  },
  {
   "cell_type": "markdown",
   "id": "36df3194-d84f-4075-b374-d74218da0eb5",
   "metadata": {},
   "source": [
    "#### BREAKOUT ROOM QUESTION"
   ]
  },
  {
   "cell_type": "code",
   "execution_count": 35,
   "id": "b614ac8c-32b6-41de-b80f-8c5da72073c3",
   "metadata": {},
   "outputs": [
    {
     "name": "stdout",
     "output_type": "stream",
     "text": [
      "Mathematics [78, 'B']\n",
      "Programming [82, 'B+']\n",
      "Biology [65, 'B']\n",
      "Physics [80, 'B+']\n",
      "Chemistry [50, 'C']\n"
     ]
    }
   ],
   "source": [
    "#Print the following output from above mention dictioaries hassan and grades\n",
    "\n",
    "# {'Mathematics': [78, 'B'],\n",
    "#  'Programming': [82, 'B+'],\n",
    "#  'Biology': [65, 'B'],\n",
    "#  'Physics': [80, 'B+'],\n",
    "#  'Chemistry': [50, 'C']}\n",
    "\n",
    "\n",
    "#we will use nested for loop in dicitionaries \n",
    "\n",
    "hassan = {'Mathematics' : 78, 'Programming' : 82,'Biology' : 65, 'Physics' : 80, 'Chemistry' : 50}\n",
    "grades = {'A' : range(90,101), 'B+' : range(80,89), 'B' : range(60,79), 'C' : range(40,59), 'F' : range(0,40)}\n",
    "\n",
    "for subj in hassan:\n",
    "    for grade in grades:\n",
    "        if hassan[subj] in grades[grade]:\n",
    "            hassan[subj] = [hassan[subj],grade] # [] here means that we need list as values in the output dictionary\n",
    "            break #This will make the code more efficient if we break it here i.e if is true don't compare further, break inner for loop\n",
    "    print(subj,hassan[subj])\n",
    "\n",
    "hassan #This will print like exact same req output"
   ]
  },
  {
   "cell_type": "code",
   "execution_count": 43,
   "id": "d43bbb8c-aa2b-4dd6-b95b-4043a5d5036d",
   "metadata": {},
   "outputs": [
    {
     "data": {
      "text/plain": [
       "True"
      ]
     },
     "execution_count": 43,
     "metadata": {},
     "output_type": "execute_result"
    }
   ],
   "source": [
    "#Let's check between the order of dict\n",
    "\n",
    "dict1 = {'A':30,'B':40,'C':50}\n",
    "dict2 = {'B':40,'C':50,'A':30}\n",
    "\n",
    "dict1 == dict2 #This will return true because the dictionaries have same key values in different orders and dicts are unordered\n",
    "\n",
    "#if we need ordered dictionaries, we will use 'from collections import OrderedDict'"
   ]
  }
 ],
 "metadata": {
  "kernelspec": {
   "display_name": "Python 3 (ipykernel)",
   "language": "python",
   "name": "python3"
  },
  "language_info": {
   "codemirror_mode": {
    "name": "ipython",
    "version": 3
   },
   "file_extension": ".py",
   "mimetype": "text/x-python",
   "name": "python",
   "nbconvert_exporter": "python",
   "pygments_lexer": "ipython3",
   "version": "3.11.7"
  }
 },
 "nbformat": 4,
 "nbformat_minor": 5
}
