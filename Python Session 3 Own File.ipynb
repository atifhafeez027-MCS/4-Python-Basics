{
 "cells": [
  {
   "cell_type": "code",
   "execution_count": 9,
   "id": "b11f7e91-2d11-4df6-ba41-f71256a8198c",
   "metadata": {},
   "outputs": [
    {
     "data": {
      "text/plain": [
       "{100: 'Hassan', 200: 'Hamza', 300: 'Abeer', 400: 'Atif Hafeez'}"
      ]
     },
     "execution_count": 9,
     "metadata": {},
     "output_type": "execute_result"
    }
   ],
   "source": [
    "roll_no = {100 : \"Hassan\", 200 : \"Hamza\", 300 : \"Abeer\"}\n",
    "\n",
    "roll_no[400] = 'Atif '\n",
    "roll_no[400] += 'Hafeez'\n",
    "roll_no"
   ]
  },
  {
   "cell_type": "raw",
   "id": "297cfb3f-0168-4c98-93d5-220afd9647f5",
   "metadata": {},
   "source": [
    "F-STRINGS"
   ]
  },
  {
   "cell_type": "code",
   "execution_count": 18,
   "id": "6e0a4390-9bb8-4137-90a1-407affd51be3",
   "metadata": {},
   "outputs": [
    {
     "name": "stdout",
     "output_type": "stream",
     "text": [
      "Hamid got 95 marks in Python class\n"
     ]
    }
   ],
   "source": [
    "#Print that \"Hamid got 95 makrs in python class\"\n",
    "\n",
    "#One method (But Annoying Way)\n",
    "name = \"Hamid\"\n",
    "c = \"Python\"\n",
    "marks = 95\n",
    "\n",
    "print(name,\"got\",marks,\"marks in\", cls, \"class\")"
   ]
  },
  {
   "cell_type": "code",
   "execution_count": 13,
   "id": "c5478501-df1f-4ea8-ac0b-662664f098c6",
   "metadata": {},
   "outputs": [
    {
     "name": "stdout",
     "output_type": "stream",
     "text": [
      "Hamid got 95 marks in Python class\n"
     ]
    }
   ],
   "source": [
    "#2nd Method Using F-Strings\n",
    "\n",
    "name = \"Hamid\"\n",
    "cls = \"Python\"\n",
    "marks = 95\n",
    "\n",
    "print(f\"{name} got {marks} marks in {cls} class\")"
   ]
  },
  {
   "cell_type": "markdown",
   "id": "4630013e-43cb-4b62-a9f5-f416f477ec98",
   "metadata": {},
   "source": [
    "### CONDITIONALS"
   ]
  },
  {
   "cell_type": "code",
   "execution_count": 31,
   "id": "db043ecd-931b-4c9e-b29a-32e8015d6c0f",
   "metadata": {},
   "outputs": [
    {
     "name": "stdout",
     "output_type": "stream",
     "text": [
      "Number is negative\n"
     ]
    }
   ],
   "source": [
    "num = -1\n",
    "if num < 0:\n",
    "    print(\"Number is negative\")\n",
    "elif num == 0:\n",
    "    print(\"Number is Zero\")\n",
    "else:\n",
    "    print(\"Numner is Positive\")"
   ]
  },
  {
   "cell_type": "code",
   "execution_count": 46,
   "id": "98d5855e-54a1-47b2-8675-1676d1ac3be1",
   "metadata": {},
   "outputs": [
    {
     "name": "stdout",
     "output_type": "stream",
     "text": [
      "x is greater than y\n",
      "x is not a multiple of 2\n"
     ]
    }
   ],
   "source": [
    "x = 13\n",
    "y = 10\n",
    "\n",
    "if x > y:\n",
    "    print(\"x is greater than y\")\n",
    "    if x%2 == 0:\n",
    "        print(\"x is multiple of 2\")\n",
    "    else:\n",
    "        print(\"x is not a multiple of 2\")\n",
    "elif x == y:\n",
    "    print(\"x and y are equal\")\n",
    "else:\n",
    "    print(\"y is greater than x\")"
   ]
  },
  {
   "cell_type": "code",
   "execution_count": 55,
   "id": "ed66b9f8-985e-47b3-bf90-dc518202a8be",
   "metadata": {},
   "outputs": [
    {
     "name": "stdout",
     "output_type": "stream",
     "text": [
      "num is a multiple of 2 and 3\n",
      "This will get printed\n",
      "num is a multiple of 3\n"
     ]
    }
   ],
   "source": [
    "num = 12\n",
    "\n",
    "if num%2 == 0 and num%3 ==0:\n",
    "    print(\"num is a multiple of 2 and 3\")\n",
    "\n",
    "# print(\"This will not get printed\") #Because it's between if and elif\n",
    "elif num%2 == 0:\n",
    "    print(\"num is a multiple of 2\")\n",
    "\n",
    "print(\"This will get printed\")\n",
    "\n",
    "if num%3 == 0:\n",
    "    print(\"num is a multiple of 3\")\n",
    "else:\n",
    "    print(\"Not a multiple of 2 and 3\")"
   ]
  },
  {
   "cell_type": "markdown",
   "id": "ec2ca75e-b80d-407b-b959-deb891842220",
   "metadata": {},
   "source": [
    "### RANGE FUNCTION"
   ]
  },
  {
   "cell_type": "code",
   "execution_count": null,
   "id": "01855f3d-dcd3-456d-9a3f-3c3d47d39d98",
   "metadata": {},
   "outputs": [],
   "source": []
  },
  {
   "cell_type": "raw",
   "id": "7065823c-08f3-4727-9380-5c098c994749",
   "metadata": {},
   "source": [
    "Range() is an iterattive function which can give a list of number starting from zero before tha argument value \n",
    "Used to generate numbers/ collection of objects"
   ]
  },
  {
   "cell_type": "code",
   "execution_count": 9,
   "id": "2cbc0c83-202c-41e2-8497-e8c34c975963",
   "metadata": {},
   "outputs": [
    {
     "name": "stdout",
     "output_type": "stream",
     "text": [
      "range(0, 5)\n",
      "<class 'range'>\n",
      "[0, 1, 2, 3, 4]\n"
     ]
    },
    {
     "data": {
      "text/plain": [
       "(0, 1, 2, 3, 4)"
      ]
     },
     "execution_count": 9,
     "metadata": {},
     "output_type": "execute_result"
    }
   ],
   "source": [
    "print(range(5)) #Range is an object here\n",
    "print(type(range(5))) \n",
    "print(list(range(5)))\n",
    "tuple(range(5))"
   ]
  },
  {
   "cell_type": "code",
   "execution_count": 10,
   "id": "15a694c0-b7ac-4cf2-82a5-3d35da115cc5",
   "metadata": {},
   "outputs": [
    {
     "name": "stdout",
     "output_type": "stream",
     "text": [
      "[2, 4, 6, 8, 10, 12, 14]\n"
     ]
    },
    {
     "data": {
      "text/plain": [
       "[-2, 0, 2, 4, 6, 8, 10, 12, 14]"
      ]
     },
     "execution_count": 10,
     "metadata": {},
     "output_type": "execute_result"
    }
   ],
   "source": [
    "print(list(range(2,15,2))) #Same as slicing but comma seperated as range is a built-in function\n",
    "list(range(-2,15,2)) #it will take integer as argument, not float"
   ]
  },
  {
   "cell_type": "markdown",
   "id": "3eff6dea-bcca-4c74-9b18-c3d61267f34c",
   "metadata": {},
   "source": [
    "### FOR LOOP"
   ]
  },
  {
   "cell_type": "raw",
   "id": "c45dd6bb-764e-4c2c-9c3f-3d5304e4a431",
   "metadata": {},
   "source": [
    "Loops are useful when we need to a task repeatedly.\n",
    "We give an iterative object to For Loop specifically to do iterations, and it should be a collection of objects e.g str, list,tuples,\n",
    "dict etc but on a single int, bool etc because these are not collection of objects (single entity)"
   ]
  },
  {
   "cell_type": "code",
   "execution_count": 73,
   "id": "40520a40-552e-48bb-96ba-a6418b6d814c",
   "metadata": {},
   "outputs": [
    {
     "name": "stdout",
     "output_type": "stream",
     "text": [
      "0\n",
      "1\n",
      "2\n",
      "3\n",
      "4\n",
      "0\n",
      "1\n",
      "2\n",
      "3\n",
      "4\n"
     ]
    }
   ],
   "source": [
    "for num in range(5):\n",
    "    print(num)\n",
    "\n",
    "#upper code is same as\n",
    "\n",
    "for num in [0,1,2,3,4]:\n",
    "    print(num)"
   ]
  },
  {
   "cell_type": "code",
   "execution_count": 83,
   "id": "99658ba3-ab77-4acc-a734-e1b6ea280966",
   "metadata": {},
   "outputs": [
    {
     "name": "stdout",
     "output_type": "stream",
     "text": [
      "P\n",
      "y\n",
      "t\n",
      "h\n",
      "o\n",
      "n\n",
      " \n",
      "C\n",
      "l\n",
      "a\n",
      "s\n",
      "s\n"
     ]
    }
   ],
   "source": [
    "for l in \"Python Class\":\n",
    "    print(l[0])\n",
    "\n",
    "#Or we cal also do the same by\n",
    "# cls = \"Python Class\"\n",
    "# for l in cls:\n",
    "#     print(l)"
   ]
  },
  {
   "cell_type": "code",
   "execution_count": 77,
   "id": "946f1760-62e7-4d14-8f81-10d8ddeecbc3",
   "metadata": {},
   "outputs": [
    {
     "name": "stdout",
     "output_type": "stream",
     "text": [
      "mango\n",
      "apple\n",
      "banana\n",
      "grapes\n",
      "watermelon\n",
      "guava\n",
      "melon\n"
     ]
    }
   ],
   "source": [
    "fruits = [\"mango\", \"apple\", \"banana\", \"grapes\",\"watermelon\",\"guava\",\"melon\"]\n",
    "\n",
    "for items in fruits:\n",
    "    print(items)"
   ]
  },
  {
   "cell_type": "code",
   "execution_count": 78,
   "id": "0841457e-7ad3-474c-823a-08a26ce45512",
   "metadata": {},
   "outputs": [
    {
     "name": "stdout",
     "output_type": "stream",
     "text": [
      "m\n",
      "a\n",
      "b\n",
      "g\n",
      "w\n",
      "g\n",
      "m\n"
     ]
    }
   ],
   "source": [
    "fruits = [\"mango\", \"apple\", \"banana\", \"grapes\",\"watermelon\",\"guava\",\"melon\"]\n",
    "\n",
    "for items in fruits:\n",
    "    print(items[0]) #to print first letter of each element"
   ]
  },
  {
   "cell_type": "code",
   "execution_count": 94,
   "id": "d116cd8b-f8dd-438f-a3a8-0adeabd54cc5",
   "metadata": {},
   "outputs": [
    {
     "name": "stdout",
     "output_type": "stream",
     "text": [
      "Python\n",
      "Python\n",
      "Python\n",
      "Python\n",
      "Python\n"
     ]
    }
   ],
   "source": [
    "#print python 5 times\n",
    "\n",
    "for i in range(5):\n",
    "    print(\"Python\")"
   ]
  },
  {
   "cell_type": "code",
   "execution_count": 92,
   "id": "4c8ca5d2-f3bf-47a2-b741-cb857d40d7a5",
   "metadata": {},
   "outputs": [
    {
     "name": "stdout",
     "output_type": "stream",
     "text": [
      "mango\n",
      "apple\n",
      "banana\n",
      "grapes\n",
      "watermelon\n",
      "guava\n",
      "melon\n"
     ]
    }
   ],
   "source": [
    "fruits = [\"mango\", \"apple\", \"banana\", \"grapes\",\"watermelon\",\"guava\",\"melon\"]\n",
    "\n",
    "for i in range(len(fruits)):\n",
    "    print(fruits[i])"
   ]
  },
  {
   "cell_type": "code",
   "execution_count": 97,
   "id": "f03c7560-4c3e-43b8-95bc-b6514ad0988d",
   "metadata": {},
   "outputs": [
    {
     "name": "stdout",
     "output_type": "stream",
     "text": [
      "banana\n",
      "grapes\n",
      "watermelon\n"
     ]
    }
   ],
   "source": [
    "#to print from banana till watermelon\n",
    "\n",
    "fruits = [\"mango\", \"apple\", \"banana\", \"grapes\",\"watermelon\",\"guava\",\"melon\"]\n",
    "\n",
    "for i in range(2,len(fruits)-2):\n",
    "    print(fruits[i])"
   ]
  },
  {
   "cell_type": "code",
   "execution_count": 99,
   "id": "2eee8b48-79ce-4e3c-b171-88eeac7e6605",
   "metadata": {},
   "outputs": [
    {
     "name": "stdout",
     "output_type": "stream",
     "text": [
      "mango\n",
      "banana\n",
      "watermelon\n",
      "melon\n"
     ]
    }
   ],
   "source": [
    "#print alternate fruits\n",
    "\n",
    "#to print from banana till watermelon\n",
    "\n",
    "fruits = [\"mango\", \"apple\", \"banana\", \"grapes\",\"watermelon\",\"guava\",\"melon\"]\n",
    "\n",
    "for i in range(0,len(fruits),2):\n",
    "    print(fruits[i])"
   ]
  },
  {
   "cell_type": "code",
   "execution_count": 104,
   "id": "ffc69384-7ad5-45ff-a793-ca7f6d14edb9",
   "metadata": {},
   "outputs": [
    {
     "data": {
      "text/plain": [
       "['mango Fruit',\n",
       " 'apple Fruit',\n",
       " 'banana Fruit',\n",
       " 'grapes Fruit',\n",
       " 'watermelon Fruit',\n",
       " 'guava Fruit',\n",
       " 'melon Fruit']"
      ]
     },
     "execution_count": 104,
     "metadata": {},
     "output_type": "execute_result"
    }
   ],
   "source": [
    "#Print \"fruit\" with every fruit\n",
    "\n",
    "\n",
    "fruits = [\"mango\", \"apple\", \"banana\", \"grapes\",\"watermelon\",\"guava\",\"melon\"]\n",
    "\n",
    "for i in range(len(fruits)):\n",
    "    fruits[i] = fruits[i] + \" Fruit\"\n",
    "\n",
    "fruits"
   ]
  },
  {
   "cell_type": "code",
   "execution_count": 107,
   "id": "2d4b55dc-a66c-4dec-ab4b-913d6193c9da",
   "metadata": {},
   "outputs": [
    {
     "data": {
      "text/plain": [
       "['mango Fruit',\n",
       " 'apple',\n",
       " 'banana Fruit',\n",
       " 'grapes',\n",
       " 'watermelon Fruit',\n",
       " 'guava',\n",
       " 'melon Fruit']"
      ]
     },
     "execution_count": 107,
     "metadata": {},
     "output_type": "execute_result"
    }
   ],
   "source": [
    "#Print \"Fruit\" with alternate fruit\n",
    "\n",
    "\n",
    "fruits = [\"mango\", \"apple\", \"banana\", \"grapes\",\"watermelon\",\"guava\",\"melon\"]\n",
    "\n",
    "for i in range(0,len(fruits),2):\n",
    "    fruits[i] = fruits[i] + \" Fruit\"\n",
    "\n",
    "fruits"
   ]
  },
  {
   "cell_type": "code",
   "execution_count": 120,
   "id": "ed1cd591-8354-47c0-b866-39f0f4c51e2b",
   "metadata": {},
   "outputs": [
    {
     "data": {
      "text/plain": [
       "['mango Fruit',\n",
       " 'apple',\n",
       " 'banana',\n",
       " 'grapes',\n",
       " 'watermelon',\n",
       " 'guava',\n",
       " 'melon Fruit']"
      ]
     },
     "execution_count": 120,
     "metadata": {},
     "output_type": "execute_result"
    }
   ],
   "source": [
    "#Add \"Fruit\" with fruit name starting with m\n",
    "\n",
    "fruits = [\"mango\", \"apple\", \"banana\", \"grapes\",\"watermelon\",\"guava\",\"melon\"]\n",
    "\n",
    "for i in range(len(fruits)):\n",
    "    if fruits[i][0] == 'm':\n",
    "        fruits[i] = fruits[i] + \" Fruit\" \n",
    "fruits"
   ]
  },
  {
   "cell_type": "code",
   "execution_count": 127,
   "id": "20f153cb-0062-4f6a-8330-766ab5d3f054",
   "metadata": {},
   "outputs": [
    {
     "name": "stdout",
     "output_type": "stream",
     "text": [
      "mango\n",
      "apple doesn't start with m\n",
      "banana doesn't start with m\n",
      "grapes doesn't start with m\n",
      "watermelon doesn't start with m\n",
      "guava doesn't start with m\n",
      "melon\n"
     ]
    }
   ],
   "source": [
    "#print elements whose names start with m\n",
    "\n",
    "#one method\n",
    "\n",
    "fruits = [\"mango\", \"apple\", \"banana\", \"grapes\",\"watermelon\",\"guava\",\"melon\"]\n",
    "\n",
    "for i in fruits: #here, i is storing and iterating names of the fruits\n",
    "    if i[0] == 'm':\n",
    "        print(i)\n",
    "    else:\n",
    "        print(i +\" doesn't start with m\")"
   ]
  },
  {
   "cell_type": "code",
   "execution_count": 156,
   "id": "f5fc0f15-31e8-46ed-ba8b-491ad89450ff",
   "metadata": {},
   "outputs": [
    {
     "name": "stdout",
     "output_type": "stream",
     "text": [
      "mango\n",
      "apple doesn't start with m\n",
      "banana doesn't start with m\n",
      "grapes doesn't start with m\n",
      "watermelon doesn't start with m\n",
      "guava doesn't start with m\n",
      "melon\n"
     ]
    }
   ],
   "source": [
    "# 2nd method\n",
    "\n",
    "fruits = [\"mango\", \"apple\", \"banana\", \"grapes\",\"watermelon\",\"guava\",\"melon\"]\n",
    "\n",
    "for i in range(len(fruits)): #here i is storing and iterating index no of the fruits\n",
    "#above \"for i in range(len(fruits)): is same as for i in \"[0, 1, 2, 3, 4, 5, 6]:\n",
    "    if fruits[i][0] == 'm':\n",
    "       print(fruits[i])\n",
    "    else:\n",
    "        print(fruits[i] +\" doesn't start with m\")"
   ]
  },
  {
   "cell_type": "code",
   "execution_count": 134,
   "id": "31f6d6e2-3c2a-451b-9e0d-81a2f076a3ac",
   "metadata": {},
   "outputs": [
    {
     "data": {
      "text/plain": [
       "True"
      ]
     },
     "execution_count": 134,
     "metadata": {},
     "output_type": "execute_result"
    }
   ],
   "source": [
    "'y' in 'python' #This will return true because python contains y"
   ]
  },
  {
   "cell_type": "code",
   "execution_count": 133,
   "id": "a9e6e9b6-6709-4998-b31c-3400d8c7241b",
   "metadata": {},
   "outputs": [
    {
     "name": "stdout",
     "output_type": "stream",
     "text": [
      "mango\n",
      "watermelon\n",
      "melon\n"
     ]
    }
   ],
   "source": [
    "#To check that which fruits have 'm' in them\n",
    "\n",
    "fruits = [\"mango\", \"apple\", \"banana\", \"grapes\",\"watermelon\",\"guava\",\"melon\"]\n",
    "for i in range(len(fruits)):\n",
    "    if 'm' in fruits[i]: #This will return true where iteration contains letter 'm' and if condition will be executed where true\n",
    "        print(fruits[i])"
   ]
  },
  {
   "cell_type": "code",
   "execution_count": 152,
   "id": "0ea24f49-009a-40da-b6b2-255c627b2dbf",
   "metadata": {},
   "outputs": [
    {
     "name": "stdout",
     "output_type": "stream",
     "text": [
      "mango\n",
      "Doesn't contain m\n",
      "Doesn't contain m\n",
      "Doesn't contain m\n",
      "watermelon\n",
      "Doesn't contain m\n",
      "melon\n"
     ]
    }
   ],
   "source": [
    "#Check that which fruits in the list contain 'm'\n",
    "\n",
    "fruits = [\"mango\", \"apple\", \"banana\", \"grapes\",\"watermelon\",\"guava\",\"melon\"]\n",
    "\n",
    "for i in fruits:\n",
    "    if 'm' in i:\n",
    "        print(i)\n",
    "    else:\n",
    "        print(\"Doesn't contain m\")"
   ]
  },
  {
   "cell_type": "code",
   "execution_count": 165,
   "id": "209d6680-056e-4afd-bed5-1203d5bc3616",
   "metadata": {},
   "outputs": [
    {
     "name": "stdout",
     "output_type": "stream",
     "text": [
      "0\n",
      "mango\n",
      "a\n",
      "\n",
      "\n",
      "1\n",
      "apple\n",
      "p\n",
      "\n",
      "\n",
      "2\n",
      "banana\n",
      "a\n",
      "\n",
      "\n",
      "3\n",
      "grapes\n",
      "r\n",
      "\n",
      "\n",
      "4\n",
      "watermelon\n",
      "a\n",
      "\n",
      "\n",
      "5\n",
      "guava\n",
      "u\n",
      "\n",
      "\n",
      "6\n",
      "melon\n",
      "e\n",
      "\n",
      "\n"
     ]
    }
   ],
   "source": [
    "fruits = [\"mango\", \"apple\", \"banana\", \"grapes\",\"watermelon\",\"guava\",\"melon\"]\n",
    "\n",
    "for i in [0, 1, 2, 3, 4, 5, 6]:\n",
    "    print(i)\n",
    "    print(fruits[i])\n",
    "    print(fruits[i][1]) #This will print 2nd alphabet of each fruit\n",
    "    print('\\n')\n"
   ]
  },
  {
   "cell_type": "code",
   "execution_count": 7,
   "id": "569336ab-f1cb-44a7-902b-897426b5a3fb",
   "metadata": {},
   "outputs": [
    {
     "name": "stdout",
     "output_type": "stream",
     "text": [
      "mango\n",
      "10\n",
      "\n",
      "\n",
      "apple\n",
      "20\n",
      "\n",
      "\n",
      "banana\n",
      "30\n",
      "\n",
      "\n",
      "grapes\n",
      "40\n",
      "\n",
      "\n",
      "watermelon\n",
      "50\n",
      "\n",
      "\n",
      "guava\n",
      "60\n",
      "\n",
      "\n",
      "melon\n",
      "70\n",
      "\n",
      "\n"
     ]
    }
   ],
   "source": [
    "#iterating on multiple lists\n",
    "\n",
    "fruits = [\"mango\", \"apple\", \"banana\", \"grapes\",\"watermelon\",\"guava\",\"melon\"]\n",
    "numbers = [10,20,30,40,50,60,70]\n",
    "# print both the strings with each corresponding index of the lists\n",
    "\n",
    "for i in range(len(fruits)):\n",
    "    print(fruits[i])\n",
    "    print(numbers[i])\n",
    "    print('\\n')\n",
    "\n",
    "#we also have zip() function for this purpose"
   ]
  },
  {
   "cell_type": "markdown",
   "id": "6782319a-5f57-445a-a8bb-eededae95ba0",
   "metadata": {},
   "source": [
    "#### ZIP() Function"
   ]
  },
  {
   "cell_type": "code",
   "execution_count": 176,
   "id": "3112f097-5b84-4d00-a0b1-d3798a41e183",
   "metadata": {},
   "outputs": [
    {
     "name": "stdout",
     "output_type": "stream",
     "text": [
      "('mango', 10)\n",
      "('apple', 20)\n",
      "('banana', 30)\n",
      "('grapes', 40)\n",
      "('watermelon', 50)\n",
      "('guava', 60)\n",
      "('melon', 70)\n"
     ]
    }
   ],
   "source": [
    "#Zip() function\n",
    "\n",
    "fruits = [\"mango\", \"apple\", \"banana\", \"grapes\",\"watermelon\",\"guava\",\"melon\"]\n",
    "numbers = [10,20,30,40,50,60,70]\n",
    "\n",
    "for i in zip(fruits,numbers): #it will zip both the lists and make a tuple\n",
    "    print(i)"
   ]
  },
  {
   "cell_type": "code",
   "execution_count": 172,
   "id": "61cd7d70-dbcf-49d5-a482-68e37ee9481e",
   "metadata": {},
   "outputs": [
    {
     "name": "stdout",
     "output_type": "stream",
     "text": [
      "mango\n",
      "10\n",
      "\n",
      "\n",
      "apple\n",
      "20\n",
      "\n",
      "\n",
      "banana\n",
      "30\n",
      "\n",
      "\n",
      "grapes\n",
      "40\n",
      "\n",
      "\n",
      "watermelon\n",
      "50\n",
      "\n",
      "\n",
      "guava\n",
      "60\n",
      "\n",
      "\n",
      "melon\n",
      "70\n",
      "\n",
      "\n"
     ]
    }
   ],
   "source": [
    "#If we want to print the above output seperately instead of tuples\n",
    "\n",
    "fruits = [\"mango\", \"apple\", \"banana\", \"grapes\",\"watermelon\",\"guava\",\"melon\"]\n",
    "numbers = [10,20,30,40,50,60,70]\n",
    "\n",
    "for i in zip(fruits,numbers):\n",
    "    print(i[0])\n",
    "    print(i[1])\n",
    "    print('\\n')"
   ]
  },
  {
   "cell_type": "code",
   "execution_count": 183,
   "id": "5cb1a4d6-7fd9-43b9-b60c-d3d8ddfdd9b2",
   "metadata": {},
   "outputs": [
    {
     "name": "stdout",
     "output_type": "stream",
     "text": [
      "(0, 'mango')\n",
      "(1, 'apple')\n",
      "(2, 'banana')\n",
      "(3, 'grapes')\n",
      "(4, 'watermelon')\n",
      "(5, 'guava')\n",
      "(6, 'melon')\n"
     ]
    }
   ],
   "source": [
    "#Enumerate() function\n",
    "\n",
    "fruits = [\"mango\", \"apple\", \"banana\", \"grapes\",\"watermelon\",\"guava\",\"melon\"]\n",
    "numbers = [10,20,30,40,50,60,70]\n",
    "\n",
    "for i in enumerate(fruits): #Enumerate is the counter for the Loop\n",
    "    print(i)"
   ]
  }
 ],
 "metadata": {
  "kernelspec": {
   "display_name": "Python 3 (ipykernel)",
   "language": "python",
   "name": "python3"
  },
  "language_info": {
   "codemirror_mode": {
    "name": "ipython",
    "version": 3
   },
   "file_extension": ".py",
   "mimetype": "text/x-python",
   "name": "python",
   "nbconvert_exporter": "python",
   "pygments_lexer": "ipython3",
   "version": "3.11.7"
  }
 },
 "nbformat": 4,
 "nbformat_minor": 5
}
