{
 "cells": [
  {
   "cell_type": "markdown",
   "id": "af8da25b-a5b0-461d-afa3-f3d44faaf532",
   "metadata": {},
   "source": [
    "# Assigning Variables"
   ]
  },
  {
   "cell_type": "raw",
   "id": "d62d4e9c-5aec-432f-a619-33d075302fa0",
   "metadata": {},
   "source": [
    "VARIABLE DEFINITION:"
   ]
  },
  {
   "cell_type": "code",
   "execution_count": 1,
   "id": "eaf59a4f-8e16-44ae-9e7e-31d960ce50e6",
   "metadata": {},
   "outputs": [
    {
     "data": {
      "text/plain": [
       "15"
      ]
     },
     "execution_count": 1,
     "metadata": {},
     "output_type": "execute_result"
    }
   ],
   "source": [
    "#variable definition rules: \n",
    "#variables must only contain alphabets, numbers and underscore (_)\n",
    "#variables cannot start with a number but can start with an alphabet or an underscore\n",
    "\n",
    "#valid variable names\n",
    "my_var = 5\n",
    "_myvar = 10\n",
    "myvar_23 = 15\n",
    "\n",
    "invalid variable names\n",
    "2my_var = 8\n",
    "my_var@ = 9"
   ]
  },
  {
   "cell_type": "code",
   "execution_count": null,
   "id": "0cff1cea-8d32-4b8b-9277-68b9635e803c",
   "metadata": {},
   "outputs": [],
   "source": [
    "my_var\n",
    "_myvar\n",
    "myvar_23 #it will give only output of last variable if run like this"
   ]
  },
  {
   "cell_type": "code",
   "execution_count": 2,
   "id": "3b5a1466-01a0-4519-b399-71359222c482",
   "metadata": {},
   "outputs": [
    {
     "data": {
      "text/plain": [
       "(5, 10, 15)"
      ]
     },
     "execution_count": 2,
     "metadata": {},
     "output_type": "execute_result"
    }
   ],
   "source": [
    "my_var, _myvar, myvar_23 #it will give output of all the variables in a tuple (will explore tuples further)"
   ]
  },
  {
   "cell_type": "code",
   "execution_count": 3,
   "id": "b4a29c0c-b412-4e9d-a6cb-7298d77aa2ed",
   "metadata": {},
   "outputs": [
    {
     "name": "stdout",
     "output_type": "stream",
     "text": [
      "5\n",
      "10\n",
      "15\n"
     ]
    }
   ],
   "source": [
    "print(my_var)\n",
    "print(_myvar)\n",
    "print(myvar_23)"
   ]
  },
  {
   "cell_type": "markdown",
   "id": "171517eb-b6bb-48dc-bcd6-14f1ef1a22f6",
   "metadata": {},
   "source": [
    "# Check data type of variable type() function"
   ]
  },
  {
   "cell_type": "code",
   "execution_count": 4,
   "id": "f1964a85-0b67-4252-a6bb-b77aaa9a1b99",
   "metadata": {},
   "outputs": [
    {
     "name": "stdout",
     "output_type": "stream",
     "text": [
      "<class 'str'>\n",
      "<class 'int'>\n",
      "<class 'float'>\n",
      "<class 'bool'>\n"
     ]
    }
   ],
   "source": [
    "var1 = \"python class\"\n",
    "var2 = 1001\n",
    "var3 = 3.14\n",
    "var4 = False\n",
    "\n",
    "print(type(var1))\n",
    "print(type(var2))\n",
    "print(type(var3))\n",
    "print(type(var4))"
   ]
  },
  {
   "cell_type": "markdown",
   "id": "758568c5-dcb1-450a-ae50-a961a7e5be55",
   "metadata": {},
   "source": [
    "# Data types as Func() "
   ]
  },
  {
   "cell_type": "code",
   "execution_count": 5,
   "id": "79e0c72b-f3af-4ca4-9e0c-37039c5e1b62",
   "metadata": {},
   "outputs": [
    {
     "name": "stdout",
     "output_type": "stream",
     "text": [
      "500\n",
      "500\n",
      "<class 'int'>\n",
      "<class 'str'>\n",
      "The classes are: <class 'int'> <class 'str'>\n"
     ]
    }
   ],
   "source": [
    "#str and other data types are also functions to convert the data type, for example\n",
    "var5 = 500\n",
    "var5_to_str = str(var5)\n",
    "print(var5)\n",
    "print(var5_to_str)\n",
    "\n",
    "print(type(var5))\n",
    "print(type(var5_to_str))\n",
    "\n",
    "var_5_to_int = int(var5_to_str)\n",
    "print(\"The classes are:\",type(var_5_to_int),type(var5_to_str))"
   ]
  },
  {
   "cell_type": "code",
   "execution_count": 6,
   "id": "43b338a9-31b0-41a2-af55-6d6e9c595ba8",
   "metadata": {},
   "outputs": [
    {
     "name": "stdout",
     "output_type": "stream",
     "text": [
      "Line 2 printout <class 'int'> \n",
      "\n",
      "Line 5 printout <class 'str'>\n"
     ]
    }
   ],
   "source": [
    "var5 = 500\n",
    "print(\"Line 2 printout\",type(var5),\"\\n\") #to add space between lines in output\n",
    "\n",
    "var5 = str(var5)\n",
    "print(\"Line 5 printout\",type(var5))"
   ]
  },
  {
   "cell_type": "code",
   "execution_count": 7,
   "id": "804820a2-6daa-4a53-b78e-f95aba5077fa",
   "metadata": {},
   "outputs": [
    {
     "name": "stdout",
     "output_type": "stream",
     "text": [
      "Line 2 printout <class 'int'>\n",
      "\n",
      "\n",
      "Line 5 printout <class 'str'>\n"
     ]
    }
   ],
   "source": [
    "var5 = 500\n",
    "print(\"Line 2 printout\",type(var5))\n",
    "print('\\n') #also to add space between lines in output\n",
    "\n",
    "var5 = str(var5)\n",
    "print(\"Line 5 printout\",type(var5))"
   ]
  },
  {
   "cell_type": "raw",
   "id": "d4b8ab4a-bb40-4659-9b2b-b7e3ea6095b0",
   "metadata": {},
   "source": [
    "int will store int only"
   ]
  },
  {
   "cell_type": "code",
   "execution_count": 8,
   "id": "3aea1f47-b39a-4e2e-8420-55f592425ea9",
   "metadata": {},
   "outputs": [
    {
     "ename": "ValueError",
     "evalue": "invalid literal for int() with base 10: 'print output'",
     "output_type": "error",
     "traceback": [
      "\u001b[1;31m---------------------------------------------------------------------------\u001b[0m",
      "\u001b[1;31mValueError\u001b[0m                                Traceback (most recent call last)",
      "Cell \u001b[1;32mIn[8], line 2\u001b[0m\n\u001b[0;32m      1\u001b[0m \u001b[38;5;28mint\u001b[39m(\u001b[38;5;241m500\u001b[39m) \u001b[38;5;66;03m#it will give 500 \u001b[39;00m\n\u001b[1;32m----> 2\u001b[0m \u001b[38;5;28mint\u001b[39m(\u001b[38;5;124m'\u001b[39m\u001b[38;5;124mprint output\u001b[39m\u001b[38;5;124m'\u001b[39m)\n",
      "\u001b[1;31mValueError\u001b[0m: invalid literal for int() with base 10: 'print output'"
     ]
    }
   ],
   "source": [
    "int(500) #it will give 500 \n",
    "int('print output') #This will give error"
   ]
  },
  {
   "cell_type": "code",
   "execution_count": null,
   "id": "35932e0f-f872-4300-a5c3-29727d4c1beb",
   "metadata": {},
   "outputs": [],
   "source": [
    "print('Pythonclass') #Always put string in quotation marks"
   ]
  },
  {
   "cell_type": "markdown",
   "id": "fd93272c-719f-4cc4-8c6e-e35638767305",
   "metadata": {},
   "source": [
    "# Basic Arithematic"
   ]
  },
  {
   "cell_type": "code",
   "execution_count": null,
   "id": "2edfa2ec-ce87-4ff4-a157-1c89ecf2de01",
   "metadata": {},
   "outputs": [],
   "source": [
    "int(3.14)"
   ]
  },
  {
   "cell_type": "code",
   "execution_count": null,
   "id": "1c1bc8b9-d529-4836-9229-9cf9f02ed36c",
   "metadata": {},
   "outputs": [],
   "source": [
    "bool(0) #integer zero will always be false"
   ]
  },
  {
   "cell_type": "code",
   "execution_count": null,
   "id": "b4cad12b-6466-4a8a-9a2f-43cd20b75f73",
   "metadata": {},
   "outputs": [],
   "source": [
    "bool(1) #any number without zero will give true"
   ]
  },
  {
   "cell_type": "code",
   "execution_count": null,
   "id": "db470dda-4f15-483f-9e4d-3e5f5d9235cf",
   "metadata": {},
   "outputs": [],
   "source": [
    "bool(\" \")"
   ]
  },
  {
   "cell_type": "code",
   "execution_count": null,
   "id": "0f96ee75-80fc-40f5-be37-0b7028483ac5",
   "metadata": {},
   "outputs": [],
   "source": [
    "bool(\"Q\")"
   ]
  },
  {
   "cell_type": "code",
   "execution_count": null,
   "id": "3a6f43d8-385b-48f8-86c8-63798e73431a",
   "metadata": {},
   "outputs": [],
   "source": [
    "a = 2\n",
    "b = 3\n",
    "c = 4\n",
    "print(a,b,c)"
   ]
  },
  {
   "cell_type": "code",
   "execution_count": null,
   "id": "03f8129d-21a0-43b3-b9e2-937d3ef30a1e",
   "metadata": {},
   "outputs": [],
   "source": [
    "a, b, c = 2,3,4\n",
    "print(a,b,c)"
   ]
  },
  {
   "cell_type": "code",
   "execution_count": null,
   "id": "16ea278d-89c1-46fd-a842-7df0957f8da1",
   "metadata": {},
   "outputs": [],
   "source": [
    "print(2+3)\n",
    "print (10*5)\n",
    "print(100/10)\n",
    "print (100-50)"
   ]
  },
  {
   "cell_type": "code",
   "execution_count": null,
   "id": "b10c6955-e8ec-4fdf-9560-3fef84828242",
   "metadata": {},
   "outputs": [],
   "source": [
    "var1 = 500\n",
    "print(var1)\n",
    "var1 = var1+10\n",
    "print(var1)\n",
    "var1 += 10 # it means var1 = var1 +10\n",
    "print(var1)\n",
    "var1 -= 10\n",
    "print(var1)"
   ]
  },
  {
   "cell_type": "code",
   "execution_count": null,
   "id": "a80c483c-978c-46cf-971d-b5ff6a750da8",
   "metadata": {},
   "outputs": [],
   "source": [
    "print(3**2) #double star is exponential\n",
    "print(10/3)\n",
    "print(10%3) #This will return the remainder\n",
    "55%10\n",
    "print(39//10) #This will give 3  instead of rouding up to 4 it will round down to 3 (floor instead of ceil)"
   ]
  },
  {
   "cell_type": "code",
   "execution_count": null,
   "id": "3345922c-0322-4cbf-ab25-48fb52a5c170",
   "metadata": {},
   "outputs": [],
   "source": [
    "int(False) + 1000"
   ]
  },
  {
   "cell_type": "code",
   "execution_count": null,
   "id": "c9954031-0738-45ec-9084-67f9967e8f80",
   "metadata": {},
   "outputs": [],
   "source": [
    "int(True) + 1000"
   ]
  },
  {
   "cell_type": "code",
   "execution_count": null,
   "id": "2c5ab44b-75ca-4f08-8500-3880b52b6d06",
   "metadata": {},
   "outputs": [],
   "source": [
    "500 + float('10.5')"
   ]
  },
  {
   "cell_type": "code",
   "execution_count": null,
   "id": "647a4492-9c18-42f8-91a5-2c560bf2aae0",
   "metadata": {},
   "outputs": [],
   "source": [
    "float('10.5') + 500"
   ]
  },
  {
   "cell_type": "code",
   "execution_count": null,
   "id": "d3d603f1-af2b-4189-8eee-d4b83466646f",
   "metadata": {},
   "outputs": [],
   "source": [
    "int('10.5') #2 step conversion: it will give error, as it is not do direct conversion, 10.5 is float"
   ]
  },
  {
   "cell_type": "code",
   "execution_count": null,
   "id": "4d59784f-648b-4add-b3ec-e50439896a6c",
   "metadata": {},
   "outputs": [],
   "source": [
    "int(float('10.5')) "
   ]
  },
  {
   "cell_type": "markdown",
   "id": "1d8ca2c8-ffc5-4618-922d-be7db9fc7f31",
   "metadata": {},
   "source": [
    "# Comparison operators"
   ]
  },
  {
   "cell_type": "code",
   "execution_count": null,
   "id": "045d7626-e126-4057-a9d1-9a4a00b4bef1",
   "metadata": {},
   "outputs": [],
   "source": [
    "a = 5\n",
    "b = 10\n",
    "\n",
    "print(a>b)\n",
    "print(a>=b)\n",
    "print(b<a)\n",
    "print(a<=b) #less than OR equal to\n",
    "print(a==b)\n",
    "print(a!=b)"
   ]
  },
  {
   "cell_type": "code",
   "execution_count": null,
   "id": "1a37b123-2fcb-485c-88e9-5b09a018c5f6",
   "metadata": {},
   "outputs": [],
   "source": [
    "x = 5\n",
    "y = 10\n",
    "print(x,y)\n",
    "x = y #single = always used to assign and comparison equal to will be ==\n",
    "print(x,y)"
   ]
  },
  {
   "cell_type": "markdown",
   "id": "8bbe3c10-bf5a-4958-8fc1-c49d8bef396c",
   "metadata": {},
   "source": [
    "# Logical operators "
   ]
  },
  {
   "cell_type": "code",
   "execution_count": null,
   "id": "eb45ff60-cebe-4aaf-a179-a18c397d9ac1",
   "metadata": {},
   "outputs": [],
   "source": [
    "a = 5\n",
    "b = 10\n",
    "\n",
    "print(a<b and a != b)\n",
    "print(a>=b)\n",
    "print(b<a)\n",
    "print(a == b or b != a)\n",
    "print(a == b or not b != a) #not will invert the condition\n",
    "print(a==b)\n",
    "print(a!=b)"
   ]
  },
  {
   "cell_type": "code",
   "execution_count": null,
   "id": "4e7e66d0-da3d-429b-b0e6-9669f3119c3b",
   "metadata": {},
   "outputs": [],
   "source": [
    "vars() #This will show all our written code in one block with working"
   ]
  },
  {
   "cell_type": "markdown",
   "id": "dd260cf9-f901-413d-b608-793bed86245b",
   "metadata": {},
   "source": [
    "# Into to Data Structures (List, tuples and dictionares)"
   ]
  },
  {
   "cell_type": "raw",
   "id": "bd885cb5-7710-45db-9674-bb41c8ae7c98",
   "metadata": {},
   "source": [
    "# LIST"
   ]
  },
  {
   "cell_type": "code",
   "execution_count": null,
   "id": "994dc0da-6289-482d-8fdc-60404b7242bd",
   "metadata": {},
   "outputs": [],
   "source": [
    "my_list = [1,2,3,4,5]\n",
    "print(my_list)"
   ]
  },
  {
   "cell_type": "code",
   "execution_count": null,
   "id": "62b2541c-2cee-4f65-8c36-ea6470c8bc2c",
   "metadata": {},
   "outputs": [],
   "source": [
    "my_list = [1,False,3.14,True, 4.5, 'Python', [1,2,3]]\n",
    "print(my_list)"
   ]
  },
  {
   "cell_type": "raw",
   "id": "5ce81e87-53a7-47ac-b20b-5d28f42d0911",
   "metadata": {},
   "source": [
    "# To check the position No/ index of a n obj"
   ]
  },
  {
   "cell_type": "code",
   "execution_count": 1,
   "id": "205e8a14-4199-4767-b36d-78b2b3d02540",
   "metadata": {},
   "outputs": [
    {
     "name": "stdout",
     "output_type": "stream",
     "text": [
      "[1, False, 3.14, True, 4, 5, 'Python', [1, 2, 3]]\n",
      "1\n",
      "i\n",
      "Python\n",
      "3.14\n",
      "P\n",
      "2\n"
     ]
    }
   ],
   "source": [
    "my_list = [1,False,3.14,True, 4, 5, 'Python', [1,2,3]]\n",
    "my_str = \"This is a python class\"\n",
    "print(my_list)\n",
    "print(my_list[0])\n",
    "print(my_str[5])\n",
    "print(my_list[6])\n",
    "print(my_list[-6]) # reverse indexing will start from -1\n",
    "print(my_list[6][0]) #0 index here is returning position of first letter of string \"python\"\n",
    "print(my_list[7][1]) #This will only run on subscriptal objects i,e strings, lists etc"
   ]
  },
  {
   "cell_type": "code",
   "execution_count": 9,
   "id": "96ac584e-6db3-4be5-ba1c-c302d099a720",
   "metadata": {},
   "outputs": [
    {
     "name": "stdout",
     "output_type": "stream",
     "text": [
      "Variable       Type     Data/Info\n",
      "---------------------------------\n",
      "my_var         int      5\n",
      "myvar_23       int      15\n",
      "var1           str      python class\n",
      "var2           int      1001\n",
      "var3           float    3.14\n",
      "var4           bool     False\n",
      "var5           str      500\n",
      "var5_to_str    str      500\n",
      "var_5_to_int   int      500\n"
     ]
    }
   ],
   "source": [
    "%whos"
   ]
  },
  {
   "cell_type": "code",
   "execution_count": null,
   "id": "409267a7-9b76-4f63-95d5-be69924f6606",
   "metadata": {},
   "outputs": [],
   "source": [
    "print(my_str)"
   ]
  },
  {
   "cell_type": "code",
   "execution_count": null,
   "id": "c460f42b-c170-44a8-a8db-f6a39e1a7f0a",
   "metadata": {},
   "outputs": [],
   "source": []
  }
 ],
 "metadata": {
  "kernelspec": {
   "display_name": "Python 3 (ipykernel)",
   "language": "python",
   "name": "python3"
  },
  "language_info": {
   "codemirror_mode": {
    "name": "ipython",
    "version": 3
   },
   "file_extension": ".py",
   "mimetype": "text/x-python",
   "name": "python",
   "nbconvert_exporter": "python",
   "pygments_lexer": "ipython3",
   "version": "3.11.7"
  }
 },
 "nbformat": 4,
 "nbformat_minor": 5
}
