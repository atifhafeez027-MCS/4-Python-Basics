{
 "cells": [
  {
   "cell_type": "markdown",
   "id": "d2026e60-a1e2-4a7a-a81e-2da4e938adb0",
   "metadata": {},
   "source": [
    "#### SETS"
   ]
  },
  {
   "cell_type": "code",
   "execution_count": 1,
   "id": "ca6a3f90-c94f-4952-b262-45597756ac28",
   "metadata": {},
   "outputs": [
    {
     "data": {
      "text/plain": [
       "{5, 6, 12}"
      ]
     },
     "execution_count": 1,
     "metadata": {},
     "output_type": "execute_result"
    }
   ],
   "source": [
    "A = {6,2,5,4,10,12}\n",
    "B = {5,6,7,8,12,11,9}\n",
    "\n",
    "A.intersection(B)"
   ]
  },
  {
   "cell_type": "raw",
   "id": "73ea2e4f-b7f4-4aa8-937e-a68add0dc9bb",
   "metadata": {},
   "source": [
    "You can not access an element of a set as sets have no index\n",
    "Sets can not contain duplicate elements like dictionaries can not contain duplicate keys. It will not give error but it will \n",
    "override the duplicates and return the output in ordered form (ascending form)\n",
    "Example given below"
   ]
  },
  {
   "cell_type": "code",
   "execution_count": 2,
   "id": "683b4550-adb1-4c17-86fd-87bce4ffd813",
   "metadata": {},
   "outputs": [
    {
     "name": "stdout",
     "output_type": "stream",
     "text": [
      "{1, 2, 3, 4, -4, -3}\n"
     ]
    }
   ],
   "source": [
    "A = {1,2,3,4,3,1,-3,-4,1}\n",
    "A #This will do ascending\n",
    "print(A) #This will print removing the duplicates/ repeated elements"
   ]
  },
  {
   "cell_type": "code",
   "execution_count": 3,
   "id": "2bbcaf20-bb64-4eb8-8816-d8ffb386c2cc",
   "metadata": {},
   "outputs": [
    {
     "name": "stdout",
     "output_type": "stream",
     "text": [
      "[1, 2, 3, 'A']\n",
      "[1, 2, 3, 'A']\n"
     ]
    }
   ],
   "source": [
    "a = [1,2,3]\n",
    "b = a #It means that a is also equal to b, any changes made in b will be relected in a as well e.g\n",
    "b.append(\"A\")\n",
    "print(b)\n",
    "print(a)"
   ]
  },
  {
   "cell_type": "code",
   "execution_count": 4,
   "id": "f01de4a7-d6ba-4096-ae04-e94483408df9",
   "metadata": {},
   "outputs": [
    {
     "name": "stdout",
     "output_type": "stream",
     "text": [
      "[1, 2, 3, 'A']\n",
      "[1, 2, 3]\n"
     ]
    }
   ],
   "source": [
    "a = [1,2,3]\n",
    "b = a.copy() #It will store a copy of a in b and a himself will not be changed\n",
    "b.append(\"A\")\n",
    "print(b)\n",
    "print(a)"
   ]
  },
  {
   "cell_type": "markdown",
   "id": "7d10d511-8e47-42c1-b646-6697f558faef",
   "metadata": {},
   "source": [
    "##### SET METHODS"
   ]
  },
  {
   "cell_type": "raw",
   "id": "adf59449-6701-47bc-99bc-c1e8f842fa96",
   "metadata": {},
   "source": [
    "add()\t \tAdds an element to the set\n",
    "clear()\t \tRemoves all the elements from the set\n",
    "copy()\t \tReturns a copy of the set\n",
    "difference()\t-\tReturns a set containing the difference between two or more sets\n",
    "difference_update()\t-=\tRemoves the items in this set that are also included in another, specified set\n",
    "discard()\t \tRemove the specified item\n",
    "intersection()\t&\tReturns a set, that is the intersection of two other sets\n",
    "intersection_update()\t&=\tRemoves the items in this set that are not present in other, specified set(s)\n",
    "isdisjoint()\t \tReturns whether two sets have a intersection or not\n",
    "issubset()\t<=\tReturns whether another set contains this set or not\n",
    " \t<\tReturns whether all items in this set is present in other, specified set(s)\n",
    "issuperset()\t>=\tReturns whether this set contains another set or not\n",
    " \t>\tReturns whether all items in other, specified set(s) is present in this set\n",
    "pop()\t \tRemoves an element from the set\n",
    "remove()\t \tRemoves the specified element\n",
    "symmetric_difference()\t^\tReturns a set with the symmetric differences of two sets\n",
    "symmetric_difference_update()\t^=\tInserts the symmetric differences from this set and another\n",
    "union()\t|\tReturn a set containing the union of sets\n",
    "update()\t|=\tUpdate the set with the union of this set and others"
   ]
  },
  {
   "cell_type": "code",
   "execution_count": 5,
   "id": "d970743b-2278-415c-b456-a190989b02d0",
   "metadata": {},
   "outputs": [
    {
     "name": "stdout",
     "output_type": "stream",
     "text": [
      "{2, 4, 5, 6, 10, 12, 13}\n",
      "set()\n"
     ]
    }
   ],
   "source": [
    "A = {6,2,5,4,10,12}\n",
    "B = {5,6,7,8,12,11,9}\n",
    "A.add(13)\n",
    "print(A)\n",
    "A.clear()\n",
    "print(A)"
   ]
  },
  {
   "cell_type": "code",
   "execution_count": 6,
   "id": "47bd2cb8-744a-4c8d-ade1-836e7c8195f8",
   "metadata": {},
   "outputs": [
    {
     "data": {
      "text/plain": [
       "{2, 4, 5, 6, 10, 12}"
      ]
     },
     "execution_count": 6,
     "metadata": {},
     "output_type": "execute_result"
    }
   ],
   "source": [
    "A = {6,2,5,4,10,12}\n",
    "B = {5,6,7,8,12,11,9}\n",
    "A.copy()"
   ]
  },
  {
   "cell_type": "code",
   "execution_count": 7,
   "id": "d8a8be40-7bda-476d-b5f4-b746f7c79ae7",
   "metadata": {},
   "outputs": [
    {
     "name": "stdout",
     "output_type": "stream",
     "text": [
      "{'banana', 'cherry'}\n"
     ]
    }
   ],
   "source": [
    "a = {\"apple\", \"banana\", \"cherry\"}\n",
    "b = {\"google\", \"microsoft\", \"apple\"}\n",
    "\n",
    "myset = a - b \n",
    "\n",
    "print(myset)"
   ]
  },
  {
   "cell_type": "code",
   "execution_count": 8,
   "id": "e57e5f7b-f301-488f-9b1a-509d714226d3",
   "metadata": {},
   "outputs": [
    {
     "name": "stdout",
     "output_type": "stream",
     "text": [
      "{'banana', 'cherry'}\n"
     ]
    }
   ],
   "source": [
    "a = {\"apple\", \"banana\", \"cherry\"}\n",
    "b = {\"google\", \"microsoft\", \"apple\"}\n",
    "\n",
    "a.difference(b) #same as a - b above\n",
    "\n",
    "print(myset)"
   ]
  },
  {
   "cell_type": "code",
   "execution_count": 9,
   "id": "508b04d3-1218-40df-852f-42aa9c1efb62",
   "metadata": {},
   "outputs": [
    {
     "data": {
      "text/plain": [
       "{2, 4, 10}"
      ]
     },
     "execution_count": 9,
     "metadata": {},
     "output_type": "execute_result"
    }
   ],
   "source": [
    "A = {6,2,5,4,10,12}\n",
    "B = {5,6,7,8,12,11,9}\n",
    "\n",
    "A.difference(B) #This will return the element that is in A but not in B"
   ]
  },
  {
   "cell_type": "code",
   "execution_count": 10,
   "id": "0964cfc2-d7a3-4a4d-a7e3-89dd5f83034f",
   "metadata": {},
   "outputs": [
    {
     "name": "stdout",
     "output_type": "stream",
     "text": [
      "{'banana'}\n"
     ]
    }
   ],
   "source": [
    "a = {\"apple\", \"banana\", \"cherry\"}\n",
    "b = {\"google\", \"microsoft\", \"apple\"}\n",
    "c = {\"cherry\", \"micra\", \"bluebird\"}\n",
    "\n",
    "myset = a.difference(b, c) #This will return the element that is in a but not in b and c\n",
    "\n",
    "print(myset)"
   ]
  },
  {
   "cell_type": "code",
   "execution_count": 11,
   "id": "155f4ed1-d3e3-41a3-a4b2-522532e56f26",
   "metadata": {},
   "outputs": [
    {
     "name": "stdout",
     "output_type": "stream",
     "text": [
      "{'banana', 'cherry'}\n"
     ]
    }
   ],
   "source": [
    "x = {\"apple\", \"banana\", \"cherry\"}\n",
    "y = {\"google\", \"microsoft\", \"apple\"}\n",
    "\n",
    "x.difference_update(y) #Removes the item that exists in both sets\n",
    "\n",
    "print(x)"
   ]
  },
  {
   "cell_type": "code",
   "execution_count": 12,
   "id": "ea368723-1b76-40b0-a5d5-024cbe91f3a6",
   "metadata": {},
   "outputs": [
    {
     "name": "stdout",
     "output_type": "stream",
     "text": [
      "{'apple', 'cherry'}\n"
     ]
    }
   ],
   "source": [
    "fruits = {\"apple\", \"banana\", \"cherry\"}\n",
    "\n",
    "fruits.discard(\"banana\") #Remove banana from the list\n",
    "\n",
    "print(fruits)"
   ]
  },
  {
   "cell_type": "code",
   "execution_count": 13,
   "id": "5d35fa93-ea15-414f-a229-e2d61ab76a52",
   "metadata": {},
   "outputs": [
    {
     "name": "stdout",
     "output_type": "stream",
     "text": [
      "{'apple'}\n"
     ]
    }
   ],
   "source": [
    "x = {\"apple\", \"banana\", \"cherry\"}\n",
    "y = {\"google\", \"microsoft\", \"apple\"}\n",
    "\n",
    "z = x.intersection(y) #Return a set that contains the items that exist in both set x, and set y:\n",
    "\n",
    "print(z)"
   ]
  },
  {
   "cell_type": "code",
   "execution_count": 14,
   "id": "4df98406-f4e6-4abc-89ea-abbf0c69febd",
   "metadata": {},
   "outputs": [
    {
     "name": "stdout",
     "output_type": "stream",
     "text": [
      "{'apple'}\n",
      "{'google', 'apple', 'microsoft'}\n"
     ]
    }
   ],
   "source": [
    "x = {\"apple\", \"banana\", \"cherry\"}\n",
    "y = {\"google\", \"microsoft\", \"apple\"}\n",
    "\n",
    "x.intersection_update(y) #Remove the items that is not present in both x and y:\n",
    "\n",
    "print(x)\n",
    "print(y) "
   ]
  },
  {
   "cell_type": "code",
   "execution_count": 15,
   "id": "d55f9aa7-ebba-4bae-8462-4f073f148ff3",
   "metadata": {},
   "outputs": [
    {
     "name": "stdout",
     "output_type": "stream",
     "text": [
      "True\n"
     ]
    }
   ],
   "source": [
    "x = {\"apple\", \"banana\", \"cherry\"}\n",
    "y = {\"google\", \"microsoft\", \"facebook\"}\n",
    " \n",
    "z = x.isdisjoint(y) #Return True if no items in set x is present in set y:\n",
    "\n",
    "print(z)\n"
   ]
  },
  {
   "cell_type": "code",
   "execution_count": 16,
   "id": "bd39e1e9-7256-4382-b14b-888c2c060ad8",
   "metadata": {},
   "outputs": [
    {
     "name": "stdout",
     "output_type": "stream",
     "text": [
      "True\n"
     ]
    }
   ],
   "source": [
    "x = {\"a\", \"b\", \"c\"}\n",
    "y = {\"f\", \"e\", \"d\", \"c\", \"b\", \"a\"}\n",
    "\n",
    "z = x.issubset(y) #Return True if all items in set x are present in set y:\n",
    "\n",
    "print(z)"
   ]
  },
  {
   "cell_type": "code",
   "execution_count": 17,
   "id": "671b99ba-3e52-4d9c-b886-5e981f540204",
   "metadata": {},
   "outputs": [
    {
     "name": "stdout",
     "output_type": "stream",
     "text": [
      "True\n"
     ]
    }
   ],
   "source": [
    "x = {\"f\", \"e\", \"d\", \"c\", \"b\", \"a\"}\n",
    "y = {\"a\", \"b\", \"c\"}\n",
    "\n",
    "z = x.issuperset(y) #Return True if all items set y are present in set x:\n",
    "\n",
    "print(z)"
   ]
  },
  {
   "cell_type": "code",
   "execution_count": 18,
   "id": "8075b202-f593-4712-8e1f-d76adba30c8a",
   "metadata": {},
   "outputs": [
    {
     "name": "stdout",
     "output_type": "stream",
     "text": [
      "{'apple', 'cherry'}\n"
     ]
    }
   ],
   "source": [
    "fruits = {\"apple\", \"banana\", \"cherry\"}\n",
    "\n",
    "fruits.pop() #Remove a random item from the set, it takes no argument. It returns the removed item\n",
    "\n",
    "print(fruits)"
   ]
  },
  {
   "cell_type": "code",
   "execution_count": 19,
   "id": "703194e6-edbd-4237-912e-aae8ab20502b",
   "metadata": {},
   "outputs": [
    {
     "name": "stdout",
     "output_type": "stream",
     "text": [
      "{'apple', 'cherry'}\n"
     ]
    }
   ],
   "source": [
    "fruits = {\"apple\", \"banana\", \"cherry\"}\n",
    "\n",
    "fruits.remove(\"banana\") #Remove \"banana\" from the set:\n",
    "\n",
    "print(fruits)"
   ]
  },
  {
   "cell_type": "code",
   "execution_count": 20,
   "id": "5f2d215e-e7e8-4322-94fa-f99178583851",
   "metadata": {},
   "outputs": [
    {
     "name": "stdout",
     "output_type": "stream",
     "text": [
      "{'google', 'banana', 'cherry', 'microsoft'}\n"
     ]
    }
   ],
   "source": [
    "x = {\"apple\", \"banana\", \"cherry\"}\n",
    "y = {\"google\", \"microsoft\", \"apple\"}\n",
    "\n",
    "z = x.symmetric_difference(y) #Return a set that contains all items from both sets, except items that are present in both sets\n",
    "\n",
    "print(z)"
   ]
  },
  {
   "cell_type": "code",
   "execution_count": 21,
   "id": "acb07adb-383b-4d92-b5e4-172e4efd147d",
   "metadata": {},
   "outputs": [
    {
     "name": "stdout",
     "output_type": "stream",
     "text": [
      "{'microsoft', 'cherry', 'google', 'banana'}\n"
     ]
    }
   ],
   "source": [
    "x = {\"apple\", \"banana\", \"cherry\"}\n",
    "y = {\"google\", \"microsoft\", \"apple\"}\n",
    "\n",
    "x.symmetric_difference_update(y) #Remove the items that are present in both sets, AND insert the items that are present in both sets:\n",
    "\n",
    "print(x)"
   ]
  },
  {
   "cell_type": "code",
   "execution_count": 22,
   "id": "30266f44-b255-41e3-84d4-046a832ecbed",
   "metadata": {},
   "outputs": [
    {
     "name": "stdout",
     "output_type": "stream",
     "text": [
      "{'google', 'microsoft', 'banana', 'apple', 'cherry'}\n"
     ]
    }
   ],
   "source": [
    "x = {\"apple\", \"banana\", \"cherry\"}\n",
    "y = {\"google\", \"microsoft\", \"apple\"}\n",
    "\n",
    "z = x.union(y) #Return a set that contains all items from both sets, duplicates are excluded:\n",
    "\n",
    "print(z)"
   ]
  },
  {
   "cell_type": "code",
   "execution_count": 23,
   "id": "0ef4e2f3-bc30-47a5-a204-ad6d0649ec7d",
   "metadata": {},
   "outputs": [
    {
     "name": "stdout",
     "output_type": "stream",
     "text": [
      "{'google', 'microsoft', 'banana', 'apple', 'cherry'}\n"
     ]
    }
   ],
   "source": [
    "x = {\"apple\", \"banana\", \"cherry\"}\n",
    "y = {\"google\", \"microsoft\", \"apple\"}\n",
    "\n",
    "x.update(y) #Insert the items from set y into set x:\n",
    "\n",
    "print(x)"
   ]
  },
  {
   "cell_type": "markdown",
   "id": "e35bc087-e312-454b-9e0d-fd17d7becf83",
   "metadata": {},
   "source": [
    "### FUNCTIONS"
   ]
  },
  {
   "cell_type": "code",
   "execution_count": 24,
   "id": "5530d0fd-e9e5-4f76-9ed0-28813bb6ccf1",
   "metadata": {},
   "outputs": [
    {
     "data": {
      "text/plain": [
       "10"
      ]
     },
     "execution_count": 24,
     "metadata": {},
     "output_type": "execute_result"
    }
   ],
   "source": [
    "sum((1,2,3,4))"
   ]
  },
  {
   "cell_type": "code",
   "execution_count": 25,
   "id": "4de6ea6f-5965-4006-b399-63dcd1eafac3",
   "metadata": {},
   "outputs": [],
   "source": [
    "def my_sum(num1,num2): #Function is defined\n",
    "    total = num1+num2 #body of cuntion, What will the function\n",
    "    return total #What will function return"
   ]
  },
  {
   "cell_type": "code",
   "execution_count": 26,
   "id": "ede70b4d-f096-4b9b-a0e3-11c7e4ecb8b8",
   "metadata": {},
   "outputs": [
    {
     "data": {
      "text/plain": [
       "30"
      ]
     },
     "execution_count": 26,
     "metadata": {},
     "output_type": "execute_result"
    }
   ],
   "source": [
    "my_sum(10,20)"
   ]
  },
  {
   "cell_type": "code",
   "execution_count": 27,
   "id": "2efd72f5-f7da-4b09-8fcc-62c929da938f",
   "metadata": {},
   "outputs": [],
   "source": [
    "def my_diff(num1,num2):\n",
    "    return num1 - num2"
   ]
  },
  {
   "cell_type": "code",
   "execution_count": 28,
   "id": "2024a687-ae52-4d5f-ba9d-4c4740a9d3ef",
   "metadata": {},
   "outputs": [
    {
     "data": {
      "text/plain": [
       "10"
      ]
     },
     "execution_count": 28,
     "metadata": {},
     "output_type": "execute_result"
    }
   ],
   "source": [
    "my_diff(10,20)\n",
    "my_diff(num1 = 20, num2 = 10)"
   ]
  },
  {
   "cell_type": "code",
   "execution_count": 29,
   "id": "02029615-bbdd-48cd-bfb0-03f51ba40da1",
   "metadata": {},
   "outputs": [],
   "source": [
    "def name(firstname, lastname):\n",
    "    print(f'my name is {firstname} {lastname}')"
   ]
  },
  {
   "cell_type": "code",
   "execution_count": 30,
   "id": "ee2c7e70-57db-4c29-8b02-cfa1c02d8af7",
   "metadata": {},
   "outputs": [
    {
     "name": "stdout",
     "output_type": "stream",
     "text": [
      "my name is Atif Hafeez\n",
      "my name is Hafeez Atif\n",
      "my name is Atif Hafeez\n"
     ]
    }
   ],
   "source": [
    "name('Atif','Hafeez')\n",
    "name('Hafeez', 'Atif')\n",
    "name(lastname = 'Hafeez', firstname = 'Atif')"
   ]
  },
  {
   "cell_type": "code",
   "execution_count": 31,
   "id": "bf3c913b-e243-4326-af87-072d935638c8",
   "metadata": {},
   "outputs": [
    {
     "name": "stdout",
     "output_type": "stream",
     "text": [
      "my name is Atif Hafeez\n"
     ]
    }
   ],
   "source": [
    "my_str = name('Atif','Hafeez') #It will print because function called is defined to print the name"
   ]
  },
  {
   "cell_type": "code",
   "execution_count": 32,
   "id": "117e6224-72a2-458e-95ef-4344c489c3e2",
   "metadata": {},
   "outputs": [],
   "source": [
    "my_str #This will not print"
   ]
  },
  {
   "cell_type": "raw",
   "id": "77a64c1a-b045-4f1d-9928-95097e652ac0",
   "metadata": {},
   "source": [
    "BUT IF WE USE RETURN IN THE FUNCTION"
   ]
  },
  {
   "cell_type": "code",
   "execution_count": 33,
   "id": "da0a6c92-3550-45b2-af26-6e780dd89bf3",
   "metadata": {},
   "outputs": [],
   "source": [
    "def name(firstname, lastname):\n",
    "    return((f'my name is {firstname} {lastname}'))\n",
    "\n",
    "#Error will not be shown while the function but when you call it, it will show if there is any error in the function"
   ]
  },
  {
   "cell_type": "code",
   "execution_count": 34,
   "id": "14b26180-e035-4af0-8159-6af424b2fc59",
   "metadata": {},
   "outputs": [],
   "source": [
    "my_str = name('Atif','Hafeez') #This will not print, it will store the returned result in my_str"
   ]
  },
  {
   "cell_type": "code",
   "execution_count": 35,
   "id": "a6a72ca2-c580-4046-81f2-49ee25c663e4",
   "metadata": {},
   "outputs": [
    {
     "data": {
      "text/plain": [
       "'my name is Atif Hafeez'"
      ]
     },
     "execution_count": 35,
     "metadata": {},
     "output_type": "execute_result"
    }
   ],
   "source": [
    "my_str #Now this will print the returned result which is stored in my_str"
   ]
  },
  {
   "cell_type": "code",
   "execution_count": 36,
   "id": "245107a6-1ddd-4bed-9b5c-baafe1742679",
   "metadata": {},
   "outputs": [
    {
     "data": {
      "text/plain": [
       "-100"
      ]
     },
     "execution_count": 36,
     "metadata": {},
     "output_type": "execute_result"
    }
   ],
   "source": [
    "def my_diff(num1,num2):\n",
    "    return num1 - num2\n",
    "\n",
    "my_diff(10,20) * 10 #This will multiply the returned value but what if we print num1 - num2 instead of return"
   ]
  },
  {
   "cell_type": "code",
   "execution_count": 37,
   "id": "68aadb79-9dbc-476a-af58-6a751985891a",
   "metadata": {},
   "outputs": [
    {
     "name": "stdout",
     "output_type": "stream",
     "text": [
      "-10\n"
     ]
    },
    {
     "ename": "TypeError",
     "evalue": "unsupported operand type(s) for *: 'NoneType' and 'int'",
     "output_type": "error",
     "traceback": [
      "\u001b[1;31m---------------------------------------------------------------------------\u001b[0m",
      "\u001b[1;31mTypeError\u001b[0m                                 Traceback (most recent call last)",
      "Cell \u001b[1;32mIn[37], line 4\u001b[0m\n\u001b[0;32m      1\u001b[0m \u001b[38;5;28;01mdef\u001b[39;00m \u001b[38;5;21mmy_diff\u001b[39m(num1,num2):\n\u001b[0;32m      2\u001b[0m     \u001b[38;5;28mprint\u001b[39m (num1 \u001b[38;5;241m-\u001b[39m num2)\n\u001b[1;32m----> 4\u001b[0m my_diff(\u001b[38;5;241m10\u001b[39m,\u001b[38;5;241m20\u001b[39m) \u001b[38;5;241m*\u001b[39m \u001b[38;5;241m10\u001b[39m\n",
      "\u001b[1;31mTypeError\u001b[0m: unsupported operand type(s) for *: 'NoneType' and 'int'"
     ]
    }
   ],
   "source": [
    "def my_diff(num1,num2):\n",
    "    print (num1 - num2)\n",
    "\n",
    "my_diff(10,20) * 10 #It will give error as print object is NoneType, means it is to print the value when the function is called"
   ]
  },
  {
   "cell_type": "raw",
   "id": "3db67e1c-0fcb-4c4c-a084-1df4ea08488b",
   "metadata": {},
   "source": [
    "IF YOU WANT A FUNCTION TO GIVE YOU BACK SOMETHING THAT YOU NEED TO USE, YOU NEED TO USE RETURN\n",
    "IF YOU WANT A FUNCTION THAT ONLY PRINT A MESSAGE AS OUTPUT, ONLY THEN WE WILL USE PRINT"
   ]
  },
  {
   "cell_type": "code",
   "execution_count": 38,
   "id": "c4e9d56e-5fe6-4765-af80-aec06d38ebd8",
   "metadata": {},
   "outputs": [],
   "source": [
    "def is_even(num):\n",
    "    if num%2 == 0:\n",
    "        return 'The Number is even'\n",
    "    else:\n",
    "        return 'The Number is Odd'"
   ]
  },
  {
   "cell_type": "code",
   "execution_count": 39,
   "id": "be9bf566-2bb2-460d-b2fb-059a832dff2e",
   "metadata": {},
   "outputs": [
    {
     "data": {
      "text/plain": [
       "'The Number is Odd'"
      ]
     },
     "execution_count": 39,
     "metadata": {},
     "output_type": "execute_result"
    }
   ],
   "source": [
    "is_even(3)"
   ]
  },
  {
   "cell_type": "code",
   "execution_count": 40,
   "id": "651b8b01-7766-4729-82b8-fc0024eb7edc",
   "metadata": {},
   "outputs": [],
   "source": [
    "#If we want user to input the number on runtime\n",
    "\n",
    "def is_odd():\n",
    "    num = int(input(\"Please enter the number to check: \"))\n",
    "    \n",
    "    if num%2 == 0:\n",
    "        print ('The Number is even')\n",
    "        \n",
    "    else:\n",
    "        print ('The Number is Odd')"
   ]
  },
  {
   "cell_type": "code",
   "execution_count": 41,
   "id": "069ef324-7819-4b43-8fe6-b0cc82efe0b9",
   "metadata": {},
   "outputs": [
    {
     "name": "stdin",
     "output_type": "stream",
     "text": [
      "Please enter the number to check:  58\n"
     ]
    },
    {
     "name": "stdout",
     "output_type": "stream",
     "text": [
      "The Number is even\n"
     ]
    }
   ],
   "source": [
    "is_odd()"
   ]
  },
  {
   "cell_type": "code",
   "execution_count": 42,
   "id": "fdfe316f-aab4-40c9-80b2-3a521f650e27",
   "metadata": {},
   "outputs": [],
   "source": [
    "def my_sum(num1, num2, num3):\n",
    "    return num1+num2+num3"
   ]
  },
  {
   "cell_type": "code",
   "execution_count": 43,
   "id": "da62c970-295c-4a40-b498-54e6726181ac",
   "metadata": {},
   "outputs": [
    {
     "data": {
      "text/plain": [
       "6"
      ]
     },
     "execution_count": 43,
     "metadata": {},
     "output_type": "execute_result"
    }
   ],
   "source": [
    "my_sum(1,2,3)"
   ]
  },
  {
   "cell_type": "raw",
   "id": "f339a411-a020-4645-9cc0-f6e7dc62b8a4",
   "metadata": {},
   "source": [
    "We can set the default arguments to prevent the error i.e we have define function with 3 arguments but call it with 3 arguments"
   ]
  },
  {
   "cell_type": "code",
   "execution_count": 44,
   "id": "a18329c8-9522-43f4-a5d8-1785eae63ead",
   "metadata": {},
   "outputs": [],
   "source": [
    "def my_sum(num1=0, num2=0, num3=0):\n",
    "    return num1+num2+num3"
   ]
  },
  {
   "cell_type": "code",
   "execution_count": 45,
   "id": "7bff0788-56df-4d6d-a51a-efbe1da9c33f",
   "metadata": {},
   "outputs": [
    {
     "data": {
      "text/plain": [
       "59"
      ]
     },
     "execution_count": 45,
     "metadata": {},
     "output_type": "execute_result"
    }
   ],
   "source": [
    "my_sum(4,55) #As num 3 = 0 \n",
    "#This will work on 1,2 or 3 arguments but will give error if we give more than 3 arguments"
   ]
  },
  {
   "cell_type": "code",
   "execution_count": 46,
   "id": "a8eff7a5-40be-4f4f-8647-45fc8df14851",
   "metadata": {},
   "outputs": [],
   "source": [
    "#We can make our function more flexible if we define the argument a list e.g\n",
    "\n",
    "def my_sum1(numbers): #This numbers will be a collection of numbers either list or tuple\n",
    "    total = 0\n",
    "    for i in numbers:\n",
    "        total += i\n",
    "\n",
    "    return total\n",
    "    "
   ]
  },
  {
   "cell_type": "code",
   "execution_count": 47,
   "id": "d8c9aa3f-851b-4aec-9088-c47781f57771",
   "metadata": {},
   "outputs": [
    {
     "name": "stdout",
     "output_type": "stream",
     "text": [
      "111\n",
      "111\n"
     ]
    }
   ],
   "source": [
    "print(my_sum1([3,4,2,4,6,8,9,11,23,41]))\n",
    "print(my_sum1((3,4,2,4,6,8,9,11,23,41))) #Same output if we make it a tuple"
   ]
  },
  {
   "cell_type": "code",
   "execution_count": 48,
   "id": "c0fbefbd-63b2-4c23-8615-f5590e3f8a6b",
   "metadata": {},
   "outputs": [],
   "source": [
    "#We can do the exact same thing as done in above cell for same output\n",
    "\n",
    "def my_sum2(numbers):\n",
    "    return sum(numbers)"
   ]
  },
  {
   "cell_type": "code",
   "execution_count": 49,
   "id": "b7e40d51-4ae8-4848-8aab-66b2d5a2425b",
   "metadata": {},
   "outputs": [
    {
     "data": {
      "text/plain": [
       "111"
      ]
     },
     "execution_count": 49,
     "metadata": {},
     "output_type": "execute_result"
    }
   ],
   "source": [
    "my_sum2([3,4,2,4,6,8,9,11,23,41])"
   ]
  },
  {
   "cell_type": "raw",
   "id": "f58e2c70-d8be-40d8-ba3c-45ee686309fc",
   "metadata": {},
   "source": [
    "Sometimes, we do not know in advance the number of arguments that will be passed into a funcƟon. To handle this kind of situaƟon, we can use arbitrary arguments in Python. Arbitrary arguments allow us to pass a varying number of values during a funcƟon call. We use an asterisk (*) before the parameter name to denote this kind of argument."
   ]
  },
  {
   "cell_type": "code",
   "execution_count": 91,
   "id": "99bf82fe-1174-484f-8919-d9a91a11499a",
   "metadata": {},
   "outputs": [],
   "source": [
    "#To make our function more flexible, we will use Arbitury Arguments with a * in the Function\n",
    "\n",
    "def my_sum3(*num):\n",
    "    total = 0\n",
    "    for i in num:\n",
    "        total += i\n",
    "\n",
    "    return total"
   ]
  },
  {
   "cell_type": "code",
   "execution_count": 92,
   "id": "ef4e4c37-a884-45f4-8606-d5fd2e475188",
   "metadata": {},
   "outputs": [
    {
     "data": {
      "text/plain": [
       "33"
      ]
     },
     "execution_count": 92,
     "metadata": {},
     "output_type": "execute_result"
    }
   ],
   "source": [
    "my_sum3(4,3,5,6,1,5,9)"
   ]
  },
  {
   "cell_type": "code",
   "execution_count": 52,
   "id": "fbab1713-2753-47f1-8b0e-9c30a1e48b61",
   "metadata": {},
   "outputs": [],
   "source": [
    "def names(*strings):\n",
    "    my_str = \"Hello..!! My name is:\"\n",
    "    for name in strings:\n",
    "        my_str += \" \"+ name\n",
    "     \n",
    "    print (my_str)"
   ]
  },
  {
   "cell_type": "code",
   "execution_count": 53,
   "id": "cc84f6aa-d901-4839-9ca6-40f798c2b9ae",
   "metadata": {},
   "outputs": [
    {
     "name": "stdout",
     "output_type": "stream",
     "text": [
      "Hello..!! My name is: Atif\n",
      "Hello..!! My name is: Atif Ali\n",
      "Hello..!! My name is: Atif Ali Hafeez\n",
      "Hello..!! My name is: Atif Ali Hafeez Chaudhary\n",
      "Hello..!! My name is: Atif Ali Hafeez Chaudhary\n"
     ]
    }
   ],
   "source": [
    "names('Atif')\n",
    "names('Atif Ali')\n",
    "names('Atif Ali Hafeez')\n",
    "names(\"Atif Ali Hafeez Chaudhary\") #This means one string argument is passed\n",
    "names(\"Atif\",\"Ali\", \"Hafeez\",\"Chaudhary\") #This means 4 string arguments are passed #BetterWay"
   ]
  },
  {
   "cell_type": "code",
   "execution_count": 54,
   "id": "fdc4c3bd-9eef-43cf-b769-5f222e3438a9",
   "metadata": {},
   "outputs": [],
   "source": [
    "def names2(*strings):\n",
    "    for name in strings:\n",
    "        print(f'Hello.. My name is {name}')"
   ]
  },
  {
   "cell_type": "code",
   "execution_count": 55,
   "id": "df17f0be-a1fe-4436-8717-b5a0e8107a7f",
   "metadata": {},
   "outputs": [
    {
     "name": "stdout",
     "output_type": "stream",
     "text": [
      "Hello.. My name is Atif Hafeez\n",
      "Hello.. My name is Shehryar Qadri\n"
     ]
    }
   ],
   "source": [
    "names2('Atif Hafeez', 'Shehryar Qadri')"
   ]
  },
  {
   "cell_type": "code",
   "execution_count": 56,
   "id": "22b1da4a-1101-4489-9ff6-f523f3499460",
   "metadata": {},
   "outputs": [],
   "source": [
    "#Write a function that reverses the list order\n",
    "\n",
    "def reverser(list1):\n",
    "   \n",
    "    out_list = list1[::-1]\n",
    "    return out_list"
   ]
  },
  {
   "cell_type": "code",
   "execution_count": 57,
   "id": "66d4c1c4-b61a-431d-910d-a66e286be83b",
   "metadata": {},
   "outputs": [
    {
     "data": {
      "text/plain": [
       "[1, 90, 6, 4, 5, 5, 4, 3, 2, 1]"
      ]
     },
     "execution_count": 57,
     "metadata": {},
     "output_type": "execute_result"
    }
   ],
   "source": [
    "reverser([1,2,3,4,5,5,4,6,90,1])"
   ]
  },
  {
   "cell_type": "code",
   "execution_count": 58,
   "id": "2058c99d-bb4c-48ae-9c60-807f885f945e",
   "metadata": {},
   "outputs": [],
   "source": [
    "#Write a function that reverses the list order (2nd Method)\n",
    "\n",
    "def reverser(list1):\n",
    "\n",
    "    out_list = []\n",
    "    for i in range(len(list1)-1, -1, -1): #len(list1)-1 means start from 4, next -1 means include zero and with reverse step\n",
    "        out_list.append(list1[i])\n",
    "\n",
    "    return out_list"
   ]
  },
  {
   "cell_type": "code",
   "execution_count": 59,
   "id": "6287782f-0961-41c1-96c9-11a0f6722392",
   "metadata": {},
   "outputs": [
    {
     "data": {
      "text/plain": [
       "[True, 97, 'Atif', 'Jupyter', 'a', 1]"
      ]
     },
     "execution_count": 59,
     "metadata": {},
     "output_type": "execute_result"
    }
   ],
   "source": [
    "reverser([1,'a', 'Jupyter', 'Atif', 97, True])"
   ]
  },
  {
   "cell_type": "code",
   "execution_count": 60,
   "id": "9eae35bb-0b50-42b8-aa8d-751442ec6190",
   "metadata": {},
   "outputs": [
    {
     "data": {
      "text/plain": [
       "[4, 3, 2, 1, 0]"
      ]
     },
     "execution_count": 60,
     "metadata": {},
     "output_type": "execute_result"
    }
   ],
   "source": [
    "list(range(4,-1,-1))"
   ]
  },
  {
   "cell_type": "code",
   "execution_count": 61,
   "id": "7868aa2c-3665-4fd1-a937-22ed81fb0736",
   "metadata": {},
   "outputs": [
    {
     "data": {
      "text/plain": [
       "[1, 4, 9, 16, 25]"
      ]
     },
     "execution_count": 61,
     "metadata": {},
     "output_type": "execute_result"
    }
   ],
   "source": [
    "my_list = [1,2,3,4,5]\n",
    "#We need a list in which square of each element ob my_list is stored\n",
    "my_sq = []\n",
    "for i in my_list:\n",
    "    my_sq.append(i**2)\n",
    "\n",
    "my_sq"
   ]
  },
  {
   "cell_type": "markdown",
   "id": "5dbebc3d-a3c2-4e61-bd45-5ad0aba8709a",
   "metadata": {},
   "source": [
    "#### List Comprehensions"
   ]
  },
  {
   "cell_type": "code",
   "execution_count": 62,
   "id": "ee93932d-c08b-4aaa-bb04-03b1084a2243",
   "metadata": {},
   "outputs": [
    {
     "data": {
      "text/plain": [
       "[1, 4, 9, 16, 25]"
      ]
     },
     "execution_count": 62,
     "metadata": {},
     "output_type": "execute_result"
    }
   ],
   "source": [
    "#List Comprehensions - Above code can be written as fol, this will e called list comprehensions (one liner for loop) e.g\n",
    "my_list = [1,2,3,4,5]\n",
    "my_sq = [i**2 for i in my_list] #List Comprehensions (Generate Lists)\n",
    "\n",
    "my_sq"
   ]
  },
  {
   "cell_type": "code",
   "execution_count": 63,
   "id": "5e77c917-5b91-418c-95b0-2465c7ee59b6",
   "metadata": {},
   "outputs": [
    {
     "data": {
      "text/plain": [
       "['A', 'T', 'I', 'F', ' ', 'A', 'L', 'I', ' ', 'H', 'A', 'F', 'E', 'E', 'Z']"
      ]
     },
     "execution_count": 63,
     "metadata": {},
     "output_type": "execute_result"
    }
   ],
   "source": [
    "#More Examples\n",
    "\n",
    "my_list = 'atif ali hafeez'\n",
    "capitals = [i.upper() for i in my_list]\n",
    "\n",
    "capitals"
   ]
  },
  {
   "cell_type": "code",
   "execution_count": 64,
   "id": "10f4e485-9b6f-4476-a426-fa342790a4f6",
   "metadata": {},
   "outputs": [],
   "source": [
    "#It won't on tuples as tuples are immutable\n",
    "#Can work on dicts\n",
    "\n"
   ]
  },
  {
   "cell_type": "code",
   "execution_count": 65,
   "id": "030be614-a9f5-4a22-93c8-bc4963f861d6",
   "metadata": {},
   "outputs": [
    {
     "data": {
      "text/plain": [
       "{'a': 'A', 't': 'T', 'i': 'I', 'f': 'F'}"
      ]
     },
     "execution_count": 65,
     "metadata": {},
     "output_type": "execute_result"
    }
   ],
   "source": [
    "my_list = 'atif'\n",
    "capitals = {i:i.upper() for i in my_list}\n",
    "\n",
    "capitals"
   ]
  },
  {
   "cell_type": "code",
   "execution_count": 66,
   "id": "6927f42b-1500-4d6d-b3a0-be3c037161d4",
   "metadata": {},
   "outputs": [
    {
     "data": {
      "text/plain": [
       "{'m': 'M', 'a': 'A', 'h': 'H'}"
      ]
     },
     "execution_count": 66,
     "metadata": {},
     "output_type": "execute_result"
    }
   ],
   "source": [
    "my_list = 'maham'\n",
    "\n",
    "capitals = {i:i.upper() for i in my_list} #It will overright the repeated letters as dictionaries are unique, keys can't be repeated\n",
    "\n",
    "capitals"
   ]
  },
  {
   "cell_type": "code",
   "execution_count": 67,
   "id": "84106b37-d2a5-48b7-a376-33fc05e325bf",
   "metadata": {},
   "outputs": [
    {
     "data": {
      "text/plain": [
       "{'maham': 'MAHAM', 'farooq': 'FAROOQ'}"
      ]
     },
     "execution_count": 67,
     "metadata": {},
     "output_type": "execute_result"
    }
   ],
   "source": [
    "my_list = ['maham','farooq']\n",
    "\n",
    "capitals = {i:i.upper() for i in my_list} #It will overright the repeated letters as dictionaries are unique, keys can't be repeated\n",
    "\n",
    "capitals"
   ]
  },
  {
   "cell_type": "markdown",
   "id": "a8a779e8-e3c7-4e63-8a9f-bbf6bb5bd71f",
   "metadata": {},
   "source": [
    "#### LAMBDA FUNCTION"
   ]
  },
  {
   "cell_type": "raw",
   "id": "584ee162-f329-4d56-aab6-c956b6e2156f",
   "metadata": {},
   "source": [
    "Lambdas are min one liner small anonymous funcƟon. It can take any number of arguments but has only one expression. The expression is executed, and the result is returned."
   ]
  },
  {
   "cell_type": "code",
   "execution_count": 68,
   "id": "f976da50-07f2-499a-858f-77444f867fc2",
   "metadata": {},
   "outputs": [],
   "source": [
    "#Let's write a function to return cube a num\n",
    "\n",
    "def cube(num):\n",
    "    return num**3"
   ]
  },
  {
   "cell_type": "code",
   "execution_count": 69,
   "id": "7d6b64b5-7043-48d4-af89-b6455020027a",
   "metadata": {},
   "outputs": [
    {
     "data": {
      "text/plain": [
       "125"
      ]
     },
     "execution_count": 69,
     "metadata": {},
     "output_type": "execute_result"
    }
   ],
   "source": [
    "cube(5)"
   ]
  },
  {
   "cell_type": "code",
   "execution_count": 70,
   "id": "8fc03df4-94f6-430f-8eca-51d607fa205a",
   "metadata": {},
   "outputs": [
    {
     "data": {
      "text/plain": [
       "125"
      ]
     },
     "execution_count": 70,
     "metadata": {},
     "output_type": "execute_result"
    }
   ],
   "source": [
    "#Now lets write the above code in one liner lambda\n",
    "#lambda is defined as a variable\n",
    "\n",
    "cube2 = lambda num : num**3 # input : output\n",
    "cube2(5) #lambda function has been stored in cube 2, we called cube 2 with argument 5"
   ]
  },
  {
   "cell_type": "code",
   "execution_count": 71,
   "id": "5685ebd3-9a86-4108-b001-691ec8d1d96a",
   "metadata": {},
   "outputs": [],
   "source": [
    "#We usally don't store lambda function in a variable, we may attach is with the MAP\n",
    "# MAP...????"
   ]
  },
  {
   "cell_type": "code",
   "execution_count": 72,
   "id": "9b0bcbbc-c6b9-419b-90f4-d850e62c1878",
   "metadata": {},
   "outputs": [
    {
     "data": {
      "text/plain": [
       "[3, 6, 9, 12]"
      ]
     },
     "execution_count": 72,
     "metadata": {},
     "output_type": "execute_result"
    }
   ],
   "source": [
    "#MAP\n",
    "\n",
    "lists = [[1,1,1], [2,2,2], [3,3,3], [4,4,4]]\n",
    "\n",
    "#map() #Map takes a function an argument and takes an iterable as a 2nd argument and applies that function on each iterable of the object. e.g\n",
    "\n",
    "map(sum,lists) #This will return a map object, if we want to see the result of the above list, we will convert into a list\n",
    "list(map(sum,lists))\n",
    "\n",
    "#We normally use malba with the map, we will see the example in next cell"
   ]
  },
  {
   "cell_type": "code",
   "execution_count": 74,
   "id": "ac8575b9-5c7f-4f3a-aa4d-213bcbd67b6e",
   "metadata": {},
   "outputs": [
    {
     "data": {
      "text/plain": [
       "[1, 4, 9, 16]"
      ]
     },
     "execution_count": 74,
     "metadata": {},
     "output_type": "execute_result"
    }
   ],
   "source": [
    "my_lst1 = [1,2,3,4]\n",
    "\n",
    "list (map(lambda y:y**2, my_lst1))\n",
    "\n",
    "#Normally, lambda functions are also used in the functions, but it's not in the scope of python for Data Science"
   ]
  },
  {
   "cell_type": "code",
   "execution_count": 99,
   "id": "c6deab48-a603-48c9-82b3-2b92c1c72a6c",
   "metadata": {},
   "outputs": [],
   "source": [
    "#Function in above cell can also be written as, here it took a complete function to do what has been done in one line above\n",
    "\n",
    "def square(y):\n",
    "    ret_lst = []\n",
    "    for i in y:\n",
    "        ret_lst = ret_lst + [i**2]\n",
    "    return ret_lst"
   ]
  },
  {
   "cell_type": "code",
   "execution_count": 101,
   "id": "94d172f2-bbb7-4884-aeaf-ef4e07318358",
   "metadata": {},
   "outputs": [
    {
     "data": {
      "text/plain": [
       "[1, 4, 9, 16]"
      ]
     },
     "execution_count": 101,
     "metadata": {},
     "output_type": "execute_result"
    }
   ],
   "source": [
    "square([1,2,3,4])"
   ]
  },
  {
   "cell_type": "code",
   "execution_count": 83,
   "id": "19c53e58-0de8-4b17-a279-fd54f2f68ac0",
   "metadata": {},
   "outputs": [
    {
     "data": {
      "text/plain": [
       "[2, 'a', 5, 'g', 2, 'a', 5, 'g', 2, 'a', 5, 'g']"
      ]
     },
     "execution_count": 83,
     "metadata": {},
     "output_type": "execute_result"
    }
   ],
   "source": [
    "[2,2,2,2]*2 #Multiplying the list with 2 will double it\n",
    "[2,'a',5,'g']*3 #This will triple the list"
   ]
  },
  {
   "cell_type": "code",
   "execution_count": 102,
   "id": "54aafdd7-0b94-4388-aac5-fed06d50565c",
   "metadata": {},
   "outputs": [
    {
     "name": "stdout",
     "output_type": "stream",
     "text": [
      "Using function defined with `def` keyword, cube: 125\n",
      "Using lambda function, cube: 125\n"
     ]
    }
   ],
   "source": [
    "def cube(y): \n",
    " return y*y*y \n",
    " \n",
    "lambda_cube = lambda y: y*y*y \n",
    " \n",
    "# using function defined \n",
    "# using def keyword \n",
    "print(\"Using function defined with `def` keyword, cube:\", cube(5)) \n",
    " \n",
    "# using the lambda function \n",
    "print(\"Using lambda function, cube:\", lambda_cube(5))"
   ]
  },
  {
   "cell_type": "code",
   "execution_count": 2,
   "id": "a0d0ffcc-1c5c-40bd-b786-5b69725b72f0",
   "metadata": {},
   "outputs": [
    {
     "ename": "NameError",
     "evalue": "name 'python' is not defined",
     "output_type": "error",
     "traceback": [
      "\u001b[1;31m---------------------------------------------------------------------------\u001b[0m",
      "\u001b[1;31mNameError\u001b[0m                                 Traceback (most recent call last)",
      "Cell \u001b[1;32mIn[2], line 1\u001b[0m\n\u001b[1;32m----> 1\u001b[0m python \u001b[38;5;241m-\u001b[39m\u001b[38;5;241m-\u001b[39mversion\n",
      "\u001b[1;31mNameError\u001b[0m: name 'python' is not defined"
     ]
    }
   ],
   "source": [
    "python --version"
   ]
  },
  {
   "cell_type": "code",
   "execution_count": 1,
   "id": "255cb682-5972-49f3-9858-10569ff12422",
   "metadata": {},
   "outputs": [
    {
     "name": "stdout",
     "output_type": "stream",
     "text": [
      "Pakistan zindabad\n"
     ]
    }
   ],
   "source": [
    "print('Pakistan zindabad')"
   ]
  }
 ],
 "metadata": {
  "kernelspec": {
   "display_name": "Python 3 (ipykernel)",
   "language": "python",
   "name": "python3"
  },
  "language_info": {
   "codemirror_mode": {
    "name": "ipython",
    "version": 3
   },
   "file_extension": ".py",
   "mimetype": "text/x-python",
   "name": "python",
   "nbconvert_exporter": "python",
   "pygments_lexer": "ipython3",
   "version": "3.12.3"
  }
 },
 "nbformat": 4,
 "nbformat_minor": 5
}
